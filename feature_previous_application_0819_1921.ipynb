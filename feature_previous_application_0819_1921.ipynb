{
 "cells": [
  {
   "cell_type": "code",
   "execution_count": 12,
   "metadata": {
    "collapsed": true
   },
   "outputs": [],
   "source": [
    "# numpy and pandas for data manipulation\n",
    "import numpy as np\n",
    "import pandas as pd \n",
    "\n",
    "# sklearn preprocessing for dealing with categorical variables\n",
    "from sklearn.preprocessing import LabelEncoder\n",
    "\n",
    "# File system manangement\n",
    "import os\n",
    "\n",
    "# Suppress warnings \n",
    "import warnings\n",
    "warnings.filterwarnings('ignore')\n",
    "\n",
    "# matplotlib and seaborn for plotting\n",
    "import matplotlib.pyplot as plt\n",
    "import seaborn as sns\n",
    "%matplotlib inline"
   ]
  },
  {
   "cell_type": "code",
   "execution_count": 19,
   "metadata": {
    "collapsed": true
   },
   "outputs": [],
   "source": [
    "\n",
    "FILEPATH_PREVIOUS_APPLICATION  = \"../data/previous_application.csv.f\""
   ]
  },
  {
   "cell_type": "code",
   "execution_count": 20,
   "metadata": {
    "collapsed": true
   },
   "outputs": [],
   "source": [
    "df_previous_application = pd.read_feather(FILEPATH_PREVIOUS_APPLICATION)"
   ]
  },
  {
   "cell_type": "code",
   "execution_count": 21,
   "metadata": {
    "collapsed": true
   },
   "outputs": [],
   "source": [
    "\n",
    "## count the number of previous applications for a given ID\n",
    "prev_apps_count = df_previous_application[['SK_ID_CURR', 'SK_ID_PREV']].groupby('SK_ID_CURR').count()\n",
    "df_previous_application['SK_ID_PREV'] = df_previous_application['SK_ID_CURR'].map(prev_apps_count['SK_ID_PREV'])\n",
    "\n",
    "## Average values for all other features in previous applications\n",
    "prev_apps_avg = df_previous_application.groupby('SK_ID_CURR', as_index=False).mean()\n",
    "prev_apps_avg.columns = ['p_' + col for col in prev_apps_avg.columns]\n"
   ]
  },
  {
   "cell_type": "code",
   "execution_count": 27,
   "metadata": {
    "collapsed": true
   },
   "outputs": [],
   "source": [
    "\n",
    "prev_apps_avg.rename(columns={'p_SK_ID_CURR': 'SK_ID_CURR'}, inplace=True)"
   ]
  },
  {
   "cell_type": "code",
   "execution_count": 28,
   "metadata": {
    "collapsed": true
   },
   "outputs": [],
   "source": [
    "prev_apps_avg.to_feather('../data/prev_app_feature_0819.csv.f')"
   ]
  },
  {
   "cell_type": "code",
   "execution_count": 29,
   "metadata": {},
   "outputs": [
    {
     "data": {
      "text/html": [
       "<div>\n",
       "<style scoped>\n",
       "    .dataframe tbody tr th:only-of-type {\n",
       "        vertical-align: middle;\n",
       "    }\n",
       "\n",
       "    .dataframe tbody tr th {\n",
       "        vertical-align: top;\n",
       "    }\n",
       "\n",
       "    .dataframe thead th {\n",
       "        text-align: right;\n",
       "    }\n",
       "</style>\n",
       "<table border=\"1\" class=\"dataframe\">\n",
       "  <thead>\n",
       "    <tr style=\"text-align: right;\">\n",
       "      <th></th>\n",
       "      <th>SK_ID_CURR</th>\n",
       "      <th>p_SK_ID_PREV</th>\n",
       "      <th>p_AMT_ANNUITY</th>\n",
       "      <th>p_AMT_APPLICATION</th>\n",
       "      <th>p_AMT_CREDIT</th>\n",
       "      <th>p_AMT_DOWN_PAYMENT</th>\n",
       "      <th>p_AMT_GOODS_PRICE</th>\n",
       "      <th>p_HOUR_APPR_PROCESS_START</th>\n",
       "      <th>p_NFLAG_LAST_APPL_IN_DAY</th>\n",
       "      <th>p_RATE_DOWN_PAYMENT</th>\n",
       "      <th>...</th>\n",
       "      <th>p_RATE_INTEREST_PRIVILEGED</th>\n",
       "      <th>p_DAYS_DECISION</th>\n",
       "      <th>p_SELLERPLACE_AREA</th>\n",
       "      <th>p_CNT_PAYMENT</th>\n",
       "      <th>p_DAYS_FIRST_DRAWING</th>\n",
       "      <th>p_DAYS_FIRST_DUE</th>\n",
       "      <th>p_DAYS_LAST_DUE_1ST_VERSION</th>\n",
       "      <th>p_DAYS_LAST_DUE</th>\n",
       "      <th>p_DAYS_TERMINATION</th>\n",
       "      <th>p_NFLAG_INSURED_ON_APPROVAL</th>\n",
       "    </tr>\n",
       "  </thead>\n",
       "  <tbody>\n",
       "    <tr>\n",
       "      <th>0</th>\n",
       "      <td>100001</td>\n",
       "      <td>1.0</td>\n",
       "      <td>3951.000</td>\n",
       "      <td>24835.50</td>\n",
       "      <td>23787.00</td>\n",
       "      <td>2520.0</td>\n",
       "      <td>24835.5</td>\n",
       "      <td>13.000000</td>\n",
       "      <td>1.0</td>\n",
       "      <td>0.104326</td>\n",
       "      <td>...</td>\n",
       "      <td>NaN</td>\n",
       "      <td>-1740.0</td>\n",
       "      <td>23.0</td>\n",
       "      <td>8.0</td>\n",
       "      <td>365243.0</td>\n",
       "      <td>-1709.000000</td>\n",
       "      <td>-1499.000000</td>\n",
       "      <td>-1619.000000</td>\n",
       "      <td>-1612.000000</td>\n",
       "      <td>0.000000</td>\n",
       "    </tr>\n",
       "    <tr>\n",
       "      <th>1</th>\n",
       "      <td>100002</td>\n",
       "      <td>1.0</td>\n",
       "      <td>9251.775</td>\n",
       "      <td>179055.00</td>\n",
       "      <td>179055.00</td>\n",
       "      <td>0.0</td>\n",
       "      <td>179055.0</td>\n",
       "      <td>9.000000</td>\n",
       "      <td>1.0</td>\n",
       "      <td>0.000000</td>\n",
       "      <td>...</td>\n",
       "      <td>NaN</td>\n",
       "      <td>-606.0</td>\n",
       "      <td>500.0</td>\n",
       "      <td>24.0</td>\n",
       "      <td>365243.0</td>\n",
       "      <td>-565.000000</td>\n",
       "      <td>125.000000</td>\n",
       "      <td>-25.000000</td>\n",
       "      <td>-17.000000</td>\n",
       "      <td>0.000000</td>\n",
       "    </tr>\n",
       "    <tr>\n",
       "      <th>2</th>\n",
       "      <td>100003</td>\n",
       "      <td>3.0</td>\n",
       "      <td>56553.990</td>\n",
       "      <td>435436.50</td>\n",
       "      <td>484191.00</td>\n",
       "      <td>3442.5</td>\n",
       "      <td>435436.5</td>\n",
       "      <td>14.666667</td>\n",
       "      <td>1.0</td>\n",
       "      <td>0.050030</td>\n",
       "      <td>...</td>\n",
       "      <td>NaN</td>\n",
       "      <td>-1305.0</td>\n",
       "      <td>533.0</td>\n",
       "      <td>10.0</td>\n",
       "      <td>365243.0</td>\n",
       "      <td>-1274.333333</td>\n",
       "      <td>-1004.333333</td>\n",
       "      <td>-1054.333333</td>\n",
       "      <td>-1047.333333</td>\n",
       "      <td>0.666667</td>\n",
       "    </tr>\n",
       "    <tr>\n",
       "      <th>3</th>\n",
       "      <td>100004</td>\n",
       "      <td>1.0</td>\n",
       "      <td>5357.250</td>\n",
       "      <td>24282.00</td>\n",
       "      <td>20106.00</td>\n",
       "      <td>4860.0</td>\n",
       "      <td>24282.0</td>\n",
       "      <td>5.000000</td>\n",
       "      <td>1.0</td>\n",
       "      <td>0.212008</td>\n",
       "      <td>...</td>\n",
       "      <td>NaN</td>\n",
       "      <td>-815.0</td>\n",
       "      <td>30.0</td>\n",
       "      <td>4.0</td>\n",
       "      <td>365243.0</td>\n",
       "      <td>-784.000000</td>\n",
       "      <td>-694.000000</td>\n",
       "      <td>-724.000000</td>\n",
       "      <td>-714.000000</td>\n",
       "      <td>0.000000</td>\n",
       "    </tr>\n",
       "    <tr>\n",
       "      <th>4</th>\n",
       "      <td>100005</td>\n",
       "      <td>2.0</td>\n",
       "      <td>4813.200</td>\n",
       "      <td>22308.75</td>\n",
       "      <td>20076.75</td>\n",
       "      <td>4464.0</td>\n",
       "      <td>44617.5</td>\n",
       "      <td>10.500000</td>\n",
       "      <td>1.0</td>\n",
       "      <td>0.108964</td>\n",
       "      <td>...</td>\n",
       "      <td>NaN</td>\n",
       "      <td>-536.0</td>\n",
       "      <td>18.0</td>\n",
       "      <td>12.0</td>\n",
       "      <td>365243.0</td>\n",
       "      <td>-706.000000</td>\n",
       "      <td>-376.000000</td>\n",
       "      <td>-466.000000</td>\n",
       "      <td>-460.000000</td>\n",
       "      <td>0.000000</td>\n",
       "    </tr>\n",
       "  </tbody>\n",
       "</table>\n",
       "<p>5 rows × 21 columns</p>\n",
       "</div>"
      ],
      "text/plain": [
       "   SK_ID_CURR  p_SK_ID_PREV  p_AMT_ANNUITY  p_AMT_APPLICATION  p_AMT_CREDIT  \\\n",
       "0      100001           1.0       3951.000           24835.50      23787.00   \n",
       "1      100002           1.0       9251.775          179055.00     179055.00   \n",
       "2      100003           3.0      56553.990          435436.50     484191.00   \n",
       "3      100004           1.0       5357.250           24282.00      20106.00   \n",
       "4      100005           2.0       4813.200           22308.75      20076.75   \n",
       "\n",
       "   p_AMT_DOWN_PAYMENT  p_AMT_GOODS_PRICE  p_HOUR_APPR_PROCESS_START  \\\n",
       "0              2520.0            24835.5                  13.000000   \n",
       "1                 0.0           179055.0                   9.000000   \n",
       "2              3442.5           435436.5                  14.666667   \n",
       "3              4860.0            24282.0                   5.000000   \n",
       "4              4464.0            44617.5                  10.500000   \n",
       "\n",
       "   p_NFLAG_LAST_APPL_IN_DAY  p_RATE_DOWN_PAYMENT             ...               \\\n",
       "0                       1.0             0.104326             ...                \n",
       "1                       1.0             0.000000             ...                \n",
       "2                       1.0             0.050030             ...                \n",
       "3                       1.0             0.212008             ...                \n",
       "4                       1.0             0.108964             ...                \n",
       "\n",
       "   p_RATE_INTEREST_PRIVILEGED  p_DAYS_DECISION  p_SELLERPLACE_AREA  \\\n",
       "0                         NaN          -1740.0                23.0   \n",
       "1                         NaN           -606.0               500.0   \n",
       "2                         NaN          -1305.0               533.0   \n",
       "3                         NaN           -815.0                30.0   \n",
       "4                         NaN           -536.0                18.0   \n",
       "\n",
       "   p_CNT_PAYMENT  p_DAYS_FIRST_DRAWING  p_DAYS_FIRST_DUE  \\\n",
       "0            8.0              365243.0      -1709.000000   \n",
       "1           24.0              365243.0       -565.000000   \n",
       "2           10.0              365243.0      -1274.333333   \n",
       "3            4.0              365243.0       -784.000000   \n",
       "4           12.0              365243.0       -706.000000   \n",
       "\n",
       "   p_DAYS_LAST_DUE_1ST_VERSION  p_DAYS_LAST_DUE  p_DAYS_TERMINATION  \\\n",
       "0                 -1499.000000     -1619.000000        -1612.000000   \n",
       "1                   125.000000       -25.000000          -17.000000   \n",
       "2                 -1004.333333     -1054.333333        -1047.333333   \n",
       "3                  -694.000000      -724.000000         -714.000000   \n",
       "4                  -376.000000      -466.000000         -460.000000   \n",
       "\n",
       "   p_NFLAG_INSURED_ON_APPROVAL  \n",
       "0                     0.000000  \n",
       "1                     0.000000  \n",
       "2                     0.666667  \n",
       "3                     0.000000  \n",
       "4                     0.000000  \n",
       "\n",
       "[5 rows x 21 columns]"
      ]
     },
     "execution_count": 29,
     "metadata": {},
     "output_type": "execute_result"
    }
   ],
   "source": [
    "prev_apps_avg.head()"
   ]
  },
  {
   "cell_type": "code",
   "execution_count": 30,
   "metadata": {},
   "outputs": [
    {
     "data": {
      "text/plain": [
       "Index(['SK_ID_CURR', 'p_SK_ID_PREV', 'p_AMT_ANNUITY', 'p_AMT_APPLICATION',\n",
       "       'p_AMT_CREDIT', 'p_AMT_DOWN_PAYMENT', 'p_AMT_GOODS_PRICE',\n",
       "       'p_HOUR_APPR_PROCESS_START', 'p_NFLAG_LAST_APPL_IN_DAY',\n",
       "       'p_RATE_DOWN_PAYMENT', 'p_RATE_INTEREST_PRIMARY',\n",
       "       'p_RATE_INTEREST_PRIVILEGED', 'p_DAYS_DECISION', 'p_SELLERPLACE_AREA',\n",
       "       'p_CNT_PAYMENT', 'p_DAYS_FIRST_DRAWING', 'p_DAYS_FIRST_DUE',\n",
       "       'p_DAYS_LAST_DUE_1ST_VERSION', 'p_DAYS_LAST_DUE', 'p_DAYS_TERMINATION',\n",
       "       'p_NFLAG_INSURED_ON_APPROVAL'],\n",
       "      dtype='object')"
      ]
     },
     "execution_count": 30,
     "metadata": {},
     "output_type": "execute_result"
    }
   ],
   "source": [
    "prev_apps_avg.columns"
   ]
  },
  {
   "cell_type": "code",
   "execution_count": null,
   "metadata": {
    "collapsed": true
   },
   "outputs": [],
   "source": []
  }
 ],
 "metadata": {
  "kernelspec": {
   "display_name": "Python 3",
   "language": "python",
   "name": "python3"
  },
  "language_info": {
   "codemirror_mode": {
    "name": "ipython",
    "version": 3
   },
   "file_extension": ".py",
   "mimetype": "text/x-python",
   "name": "python",
   "nbconvert_exporter": "python",
   "pygments_lexer": "ipython3",
   "version": "3.6.3"
  }
 },
 "nbformat": 4,
 "nbformat_minor": 2
}
