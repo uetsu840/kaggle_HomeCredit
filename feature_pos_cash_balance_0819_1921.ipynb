{
 "cells": [
  {
   "cell_type": "code",
   "execution_count": 10,
   "metadata": {
    "collapsed": true
   },
   "outputs": [],
   "source": [
    "# numpy and pandas for data manipulation\n",
    "import numpy as np\n",
    "import pandas as pd \n",
    "\n",
    "# sklearn preprocessing for dealing with categorical variables\n",
    "from sklearn.preprocessing import LabelEncoder\n",
    "\n",
    "# File system manangement\n",
    "import os\n",
    "\n",
    "# Suppress warnings \n",
    "import warnings\n",
    "warnings.filterwarnings('ignore')\n",
    "\n",
    "# matplotlib and seaborn for plotting\n",
    "import matplotlib.pyplot as plt\n",
    "import seaborn as sns\n",
    "%matplotlib inline"
   ]
  },
  {
   "cell_type": "code",
   "execution_count": 11,
   "metadata": {
    "collapsed": true
   },
   "outputs": [],
   "source": [
    "FILEPATH_POS_CASH_BALANCE      = \"../data/POS_CASH_balance.csv.f\""
   ]
  },
  {
   "cell_type": "code",
   "execution_count": 12,
   "metadata": {
    "collapsed": true
   },
   "outputs": [],
   "source": [
    "df_pos_cash_balance = pd.read_feather(FILEPATH_POS_CASH_BALANCE)"
   ]
  },
  {
   "cell_type": "code",
   "execution_count": 24,
   "metadata": {
    "collapsed": true
   },
   "outputs": [],
   "source": [
    "df_pos_cash_balance_ec = pd.get_dummies(df_pos_cash_balance)[['SK_ID_CURR', \n",
    "                                                            'NAME_CONTRACT_STATUS_Amortized debt', \n",
    "                                                            'NAME_CONTRACT_STATUS_Approved',\n",
    "                                                            'NAME_CONTRACT_STATUS_Canceled',\n",
    "                                                            'NAME_CONTRACT_STATUS_Completed',\n",
    "                                                            'NAME_CONTRACT_STATUS_Demand',\n",
    "                                                            'NAME_CONTRACT_STATUS_Returned to the store',\n",
    "                                                            'NAME_CONTRACT_STATUS_Signed'\n",
    "                                                                 ]]\n",
    "df_pos_cash_balance_ec = df_pos_cash_balance_ec.groupby('SK_ID_CURR', as_index=False).sum()"
   ]
  },
  {
   "cell_type": "code",
   "execution_count": 25,
   "metadata": {},
   "outputs": [
    {
     "data": {
      "text/plain": [
       "Index(['SK_ID_CURR', 'NAME_CONTRACT_STATUS_Amortized debt',\n",
       "       'NAME_CONTRACT_STATUS_Approved', 'NAME_CONTRACT_STATUS_Canceled',\n",
       "       'NAME_CONTRACT_STATUS_Completed', 'NAME_CONTRACT_STATUS_Demand',\n",
       "       'NAME_CONTRACT_STATUS_Returned to the store',\n",
       "       'NAME_CONTRACT_STATUS_Signed'],\n",
       "      dtype='object')"
      ]
     },
     "execution_count": 25,
     "metadata": {},
     "output_type": "execute_result"
    }
   ],
   "source": [
    "df_pos_cash_balance_ec.columns"
   ]
  },
  {
   "cell_type": "code",
   "execution_count": 26,
   "metadata": {
    "collapsed": true
   },
   "outputs": [],
   "source": [
    "### count the number of pos cash for a given ID\n",
    "pcb_count = df_pos_cash_balance[['SK_ID_CURR', 'SK_ID_PREV']].groupby('SK_ID_CURR').count()\n",
    "df_pos_cash_balance['SK_ID_PREV'] = df_pos_cash_balance['SK_ID_CURR'].map(pcb_count['SK_ID_PREV'])\n",
    "\n",
    "## Average Values for all other variables in pos cash\n",
    "pcb_avg = df_pos_cash_balance.groupby('SK_ID_CURR', as_index=False).mean()\n",
    "pcb_avg = pd.merge(pcb_avg, df_pos_cash_balance_ec, on = 'SK_ID_CURR', how='left')\n",
    "pcb_avg.columns = ['pcb_' + f_ for f_ in pcb_avg.columns]\n"
   ]
  },
  {
   "cell_type": "code",
   "execution_count": 27,
   "metadata": {
    "collapsed": true
   },
   "outputs": [],
   "source": [
    "pcb_avg.rename(columns={'pcb_SK_ID_CURR': 'SK_ID_CURR'}, inplace=True)"
   ]
  },
  {
   "cell_type": "code",
   "execution_count": 28,
   "metadata": {
    "collapsed": true
   },
   "outputs": [],
   "source": [
    "pcb_avg.to_feather('../data/POS_CASH_balance_feature_0819_1.csv.f')"
   ]
  },
  {
   "cell_type": "code",
   "execution_count": 29,
   "metadata": {},
   "outputs": [
    {
     "data": {
      "text/html": [
       "<div>\n",
       "<style scoped>\n",
       "    .dataframe tbody tr th:only-of-type {\n",
       "        vertical-align: middle;\n",
       "    }\n",
       "\n",
       "    .dataframe tbody tr th {\n",
       "        vertical-align: top;\n",
       "    }\n",
       "\n",
       "    .dataframe thead th {\n",
       "        text-align: right;\n",
       "    }\n",
       "</style>\n",
       "<table border=\"1\" class=\"dataframe\">\n",
       "  <thead>\n",
       "    <tr style=\"text-align: right;\">\n",
       "      <th></th>\n",
       "      <th>SK_ID_CURR</th>\n",
       "      <th>pcb_SK_ID_PREV</th>\n",
       "      <th>pcb_MONTHS_BALANCE</th>\n",
       "      <th>pcb_CNT_INSTALMENT</th>\n",
       "      <th>pcb_CNT_INSTALMENT_FUTURE</th>\n",
       "      <th>pcb_SK_DPD</th>\n",
       "      <th>pcb_SK_DPD_DEF</th>\n",
       "      <th>pcb_NAME_CONTRACT_STATUS_Amortized debt</th>\n",
       "      <th>pcb_NAME_CONTRACT_STATUS_Approved</th>\n",
       "      <th>pcb_NAME_CONTRACT_STATUS_Canceled</th>\n",
       "      <th>pcb_NAME_CONTRACT_STATUS_Completed</th>\n",
       "      <th>pcb_NAME_CONTRACT_STATUS_Demand</th>\n",
       "      <th>pcb_NAME_CONTRACT_STATUS_Returned to the store</th>\n",
       "      <th>pcb_NAME_CONTRACT_STATUS_Signed</th>\n",
       "    </tr>\n",
       "  </thead>\n",
       "  <tbody>\n",
       "    <tr>\n",
       "      <th>0</th>\n",
       "      <td>100001</td>\n",
       "      <td>9.0</td>\n",
       "      <td>-72.555556</td>\n",
       "      <td>4.000000</td>\n",
       "      <td>1.444444</td>\n",
       "      <td>0.777778</td>\n",
       "      <td>0.777778</td>\n",
       "      <td>0</td>\n",
       "      <td>0</td>\n",
       "      <td>0</td>\n",
       "      <td>2</td>\n",
       "      <td>0</td>\n",
       "      <td>0</td>\n",
       "      <td>0</td>\n",
       "    </tr>\n",
       "    <tr>\n",
       "      <th>1</th>\n",
       "      <td>100002</td>\n",
       "      <td>19.0</td>\n",
       "      <td>-10.000000</td>\n",
       "      <td>24.000000</td>\n",
       "      <td>15.000000</td>\n",
       "      <td>0.000000</td>\n",
       "      <td>0.000000</td>\n",
       "      <td>0</td>\n",
       "      <td>0</td>\n",
       "      <td>0</td>\n",
       "      <td>0</td>\n",
       "      <td>0</td>\n",
       "      <td>0</td>\n",
       "      <td>0</td>\n",
       "    </tr>\n",
       "    <tr>\n",
       "      <th>2</th>\n",
       "      <td>100003</td>\n",
       "      <td>28.0</td>\n",
       "      <td>-43.785714</td>\n",
       "      <td>10.107143</td>\n",
       "      <td>5.785714</td>\n",
       "      <td>0.000000</td>\n",
       "      <td>0.000000</td>\n",
       "      <td>0</td>\n",
       "      <td>0</td>\n",
       "      <td>0</td>\n",
       "      <td>2</td>\n",
       "      <td>0</td>\n",
       "      <td>0</td>\n",
       "      <td>0</td>\n",
       "    </tr>\n",
       "    <tr>\n",
       "      <th>3</th>\n",
       "      <td>100004</td>\n",
       "      <td>4.0</td>\n",
       "      <td>-25.500000</td>\n",
       "      <td>3.750000</td>\n",
       "      <td>2.250000</td>\n",
       "      <td>0.000000</td>\n",
       "      <td>0.000000</td>\n",
       "      <td>0</td>\n",
       "      <td>0</td>\n",
       "      <td>0</td>\n",
       "      <td>1</td>\n",
       "      <td>0</td>\n",
       "      <td>0</td>\n",
       "      <td>0</td>\n",
       "    </tr>\n",
       "    <tr>\n",
       "      <th>4</th>\n",
       "      <td>100005</td>\n",
       "      <td>11.0</td>\n",
       "      <td>-20.000000</td>\n",
       "      <td>11.700000</td>\n",
       "      <td>7.200000</td>\n",
       "      <td>0.000000</td>\n",
       "      <td>0.000000</td>\n",
       "      <td>0</td>\n",
       "      <td>0</td>\n",
       "      <td>0</td>\n",
       "      <td>1</td>\n",
       "      <td>0</td>\n",
       "      <td>0</td>\n",
       "      <td>1</td>\n",
       "    </tr>\n",
       "  </tbody>\n",
       "</table>\n",
       "</div>"
      ],
      "text/plain": [
       "   SK_ID_CURR  pcb_SK_ID_PREV  pcb_MONTHS_BALANCE  pcb_CNT_INSTALMENT  \\\n",
       "0      100001             9.0          -72.555556            4.000000   \n",
       "1      100002            19.0          -10.000000           24.000000   \n",
       "2      100003            28.0          -43.785714           10.107143   \n",
       "3      100004             4.0          -25.500000            3.750000   \n",
       "4      100005            11.0          -20.000000           11.700000   \n",
       "\n",
       "   pcb_CNT_INSTALMENT_FUTURE  pcb_SK_DPD  pcb_SK_DPD_DEF  \\\n",
       "0                   1.444444    0.777778        0.777778   \n",
       "1                  15.000000    0.000000        0.000000   \n",
       "2                   5.785714    0.000000        0.000000   \n",
       "3                   2.250000    0.000000        0.000000   \n",
       "4                   7.200000    0.000000        0.000000   \n",
       "\n",
       "   pcb_NAME_CONTRACT_STATUS_Amortized debt  pcb_NAME_CONTRACT_STATUS_Approved  \\\n",
       "0                                        0                                  0   \n",
       "1                                        0                                  0   \n",
       "2                                        0                                  0   \n",
       "3                                        0                                  0   \n",
       "4                                        0                                  0   \n",
       "\n",
       "   pcb_NAME_CONTRACT_STATUS_Canceled  pcb_NAME_CONTRACT_STATUS_Completed  \\\n",
       "0                                  0                                   2   \n",
       "1                                  0                                   0   \n",
       "2                                  0                                   2   \n",
       "3                                  0                                   1   \n",
       "4                                  0                                   1   \n",
       "\n",
       "   pcb_NAME_CONTRACT_STATUS_Demand  \\\n",
       "0                                0   \n",
       "1                                0   \n",
       "2                                0   \n",
       "3                                0   \n",
       "4                                0   \n",
       "\n",
       "   pcb_NAME_CONTRACT_STATUS_Returned to the store  \\\n",
       "0                                               0   \n",
       "1                                               0   \n",
       "2                                               0   \n",
       "3                                               0   \n",
       "4                                               0   \n",
       "\n",
       "   pcb_NAME_CONTRACT_STATUS_Signed  \n",
       "0                                0  \n",
       "1                                0  \n",
       "2                                0  \n",
       "3                                0  \n",
       "4                                1  "
      ]
     },
     "execution_count": 29,
     "metadata": {},
     "output_type": "execute_result"
    }
   ],
   "source": [
    "pcb_avg.head()"
   ]
  },
  {
   "cell_type": "code",
   "execution_count": null,
   "metadata": {
    "collapsed": true
   },
   "outputs": [],
   "source": []
  },
  {
   "cell_type": "code",
   "execution_count": null,
   "metadata": {
    "collapsed": true
   },
   "outputs": [],
   "source": []
  }
 ],
 "metadata": {
  "kernelspec": {
   "display_name": "Python 3",
   "language": "python",
   "name": "python3"
  },
  "language_info": {
   "codemirror_mode": {
    "name": "ipython",
    "version": 3
   },
   "file_extension": ".py",
   "mimetype": "text/x-python",
   "name": "python",
   "nbconvert_exporter": "python",
   "pygments_lexer": "ipython3",
   "version": "3.6.3"
  }
 },
 "nbformat": 4,
 "nbformat_minor": 2
}
