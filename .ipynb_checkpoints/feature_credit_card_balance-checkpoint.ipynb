{
 "cells": [
  {
   "cell_type": "code",
   "execution_count": 1,
   "metadata": {
    "collapsed": true
   },
   "outputs": [],
   "source": [
    "# numpy and pandas for data manipulation\n",
    "import numpy as np\n",
    "import pandas as pd \n",
    "\n",
    "# sklearn preprocessing for dealing with categorical variables\n",
    "from sklearn.preprocessing import LabelEncoder\n",
    "\n",
    "# File system manangement\n",
    "import os\n",
    "\n",
    "# Suppress warnings \n",
    "import warnings\n",
    "warnings.filterwarnings('ignore')\n",
    "\n",
    "# matplotlib and seaborn for plotting\n",
    "import matplotlib.pyplot as plt\n",
    "import seaborn as sns\n",
    "%matplotlib inline"
   ]
  },
  {
   "cell_type": "code",
   "execution_count": 2,
   "metadata": {
    "collapsed": true
   },
   "outputs": [],
   "source": [
    "FILEPATH_INSTALLMENTS_PAYMENTS = \"../data/installments_payments.csv.f\""
   ]
  },
  {
   "cell_type": "code",
   "execution_count": 3,
   "metadata": {
    "collapsed": true
   },
   "outputs": [],
   "source": [
    "df_installments_payments = pd.read_feather(FILEPATH_INSTALLMENTS_PAYMENTS)"
   ]
  },
  {
   "cell_type": "code",
   "execution_count": 4,
   "metadata": {
    "collapsed": true
   },
   "outputs": [],
   "source": [
    "## count the number of previous installments\n",
    "cnt_inst = df_installments_payments[['SK_ID_CURR', 'SK_ID_PREV']].groupby('SK_ID_CURR').count()\n",
    "df_installments_payments['SK_ID_PREV'] = df_installments_payments['SK_ID_CURR'].map(cnt_inst['SK_ID_PREV'])\n",
    "\n",
    "## Average values for all other variables in installments payments\n",
    "avg_inst = df_installments_payments.groupby('SK_ID_CURR', as_index=False).mean()\n",
    "avg_inst.columns = ['i_' + f_ for f_ in avg_inst.columns]"
   ]
  },
  {
   "cell_type": "code",
   "execution_count": 5,
   "metadata": {
    "collapsed": true
   },
   "outputs": [],
   "source": [
    "avg_inst.rename(columns={'i_SK_ID_CURR': 'SK_ID_CURR'}, inplace=True)"
   ]
  },
  {
   "cell_type": "code",
   "execution_count": 6,
   "metadata": {
    "collapsed": true
   },
   "outputs": [],
   "source": [
    "avg_inst.to_feather('../data/prev_insallment_payment_feature_0819.csv.f')"
   ]
  },
  {
   "cell_type": "code",
   "execution_count": 7,
   "metadata": {},
   "outputs": [
    {
     "data": {
      "text/html": [
       "<div>\n",
       "<style scoped>\n",
       "    .dataframe tbody tr th:only-of-type {\n",
       "        vertical-align: middle;\n",
       "    }\n",
       "\n",
       "    .dataframe tbody tr th {\n",
       "        vertical-align: top;\n",
       "    }\n",
       "\n",
       "    .dataframe thead th {\n",
       "        text-align: right;\n",
       "    }\n",
       "</style>\n",
       "<table border=\"1\" class=\"dataframe\">\n",
       "  <thead>\n",
       "    <tr style=\"text-align: right;\">\n",
       "      <th></th>\n",
       "      <th>SK_ID_CURR</th>\n",
       "      <th>i_SK_ID_PREV</th>\n",
       "      <th>i_NUM_INSTALMENT_VERSION</th>\n",
       "      <th>i_NUM_INSTALMENT_NUMBER</th>\n",
       "      <th>i_DAYS_INSTALMENT</th>\n",
       "      <th>i_DAYS_ENTRY_PAYMENT</th>\n",
       "      <th>i_AMT_INSTALMENT</th>\n",
       "      <th>i_AMT_PAYMENT</th>\n",
       "    </tr>\n",
       "  </thead>\n",
       "  <tbody>\n",
       "    <tr>\n",
       "      <th>0</th>\n",
       "      <td>100001</td>\n",
       "      <td>7.0</td>\n",
       "      <td>1.142857</td>\n",
       "      <td>2.714286</td>\n",
       "      <td>-2187.714286</td>\n",
       "      <td>-2195.000000</td>\n",
       "      <td>5885.132143</td>\n",
       "      <td>5885.132143</td>\n",
       "    </tr>\n",
       "    <tr>\n",
       "      <th>1</th>\n",
       "      <td>100002</td>\n",
       "      <td>19.0</td>\n",
       "      <td>1.052632</td>\n",
       "      <td>10.000000</td>\n",
       "      <td>-295.000000</td>\n",
       "      <td>-315.421053</td>\n",
       "      <td>11559.247105</td>\n",
       "      <td>11559.247105</td>\n",
       "    </tr>\n",
       "    <tr>\n",
       "      <th>2</th>\n",
       "      <td>100003</td>\n",
       "      <td>25.0</td>\n",
       "      <td>1.040000</td>\n",
       "      <td>5.080000</td>\n",
       "      <td>-1378.160000</td>\n",
       "      <td>-1385.320000</td>\n",
       "      <td>64754.586000</td>\n",
       "      <td>64754.586000</td>\n",
       "    </tr>\n",
       "    <tr>\n",
       "      <th>3</th>\n",
       "      <td>100004</td>\n",
       "      <td>3.0</td>\n",
       "      <td>1.333333</td>\n",
       "      <td>2.000000</td>\n",
       "      <td>-754.000000</td>\n",
       "      <td>-761.666667</td>\n",
       "      <td>7096.155000</td>\n",
       "      <td>7096.155000</td>\n",
       "    </tr>\n",
       "    <tr>\n",
       "      <th>4</th>\n",
       "      <td>100005</td>\n",
       "      <td>9.0</td>\n",
       "      <td>1.111111</td>\n",
       "      <td>5.000000</td>\n",
       "      <td>-586.000000</td>\n",
       "      <td>-609.555556</td>\n",
       "      <td>6240.205000</td>\n",
       "      <td>6240.205000</td>\n",
       "    </tr>\n",
       "  </tbody>\n",
       "</table>\n",
       "</div>"
      ],
      "text/plain": [
       "   SK_ID_CURR  i_SK_ID_PREV  i_NUM_INSTALMENT_VERSION  \\\n",
       "0      100001           7.0                  1.142857   \n",
       "1      100002          19.0                  1.052632   \n",
       "2      100003          25.0                  1.040000   \n",
       "3      100004           3.0                  1.333333   \n",
       "4      100005           9.0                  1.111111   \n",
       "\n",
       "   i_NUM_INSTALMENT_NUMBER  i_DAYS_INSTALMENT  i_DAYS_ENTRY_PAYMENT  \\\n",
       "0                 2.714286       -2187.714286          -2195.000000   \n",
       "1                10.000000        -295.000000           -315.421053   \n",
       "2                 5.080000       -1378.160000          -1385.320000   \n",
       "3                 2.000000        -754.000000           -761.666667   \n",
       "4                 5.000000        -586.000000           -609.555556   \n",
       "\n",
       "   i_AMT_INSTALMENT  i_AMT_PAYMENT  \n",
       "0       5885.132143    5885.132143  \n",
       "1      11559.247105   11559.247105  \n",
       "2      64754.586000   64754.586000  \n",
       "3       7096.155000    7096.155000  \n",
       "4       6240.205000    6240.205000  "
      ]
     },
     "execution_count": 7,
     "metadata": {},
     "output_type": "execute_result"
    }
   ],
   "source": [
    "avg_inst.head()"
   ]
  },
  {
   "cell_type": "code",
   "execution_count": null,
   "metadata": {
    "collapsed": true
   },
   "outputs": [],
   "source": []
  }
 ],
 "metadata": {
  "kernelspec": {
   "display_name": "Python 3",
   "language": "python",
   "name": "python3"
  },
  "language_info": {
   "codemirror_mode": {
    "name": "ipython",
    "version": 3
   },
   "file_extension": ".py",
   "mimetype": "text/x-python",
   "name": "python",
   "nbconvert_exporter": "python",
   "pygments_lexer": "ipython3",
   "version": "3.6.3"
  }
 },
 "nbformat": 4,
 "nbformat_minor": 2
}
