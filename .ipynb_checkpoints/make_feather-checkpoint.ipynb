{
 "cells": [
  {
   "cell_type": "code",
   "execution_count": 1,
   "metadata": {
    "collapsed": true
   },
   "outputs": [],
   "source": [
    "import pandas as pd"
   ]
  },
  {
   "cell_type": "code",
   "execution_count": 22,
   "metadata": {},
   "outputs": [],
   "source": [
    "FILEPATH_APPLICATION_TRAIN     = \"../data/application_train.csv\"\n",
    "FILEPATH_APPLICATION_TEST      = \"../data/application_test.csv\"\n",
    "FILEPATH_BUREAU                 = \"../data/bureau.csv\"\n",
    "FILEPATH_BUREAU_BALANCE         = \"../data/bureau_balance.csv\"\n",
    "FILEPATH_CREDIT_CARD_BALANCE   = \"../data/credit_card_balance.csv\"\n",
    "FILEPATH_INSTALLMENTS_PAYMENTS = \"../data/installments_payments.csv\"\n",
    "FILEPATH_POS_CASH_BALANCE      = \"../data/POS_CASH_balance.csv\"\n",
    "FILEPATH_PREVIOUS_APPLICATION  = \"../data/previous_application.csv\""
   ]
  },
  {
   "cell_type": "code",
   "execution_count": 25,
   "metadata": {
    "collapsed": true
   },
   "outputs": [],
   "source": [
    "def zip_to_feather(csv_name):\n",
    "    zip_name = csv_name + '.zip'\n",
    "    df = pd.read_csv(zip_name)\n",
    "    feather_name = csv_name + '.f'\n",
    "    df.to_feather(feather_name)"
   ]
  },
  {
   "cell_type": "code",
   "execution_count": null,
   "metadata": {},
   "outputs": [],
   "source": [
    "zip_to_feather(FILEPATH_APPLICATION_TRAIN)\n",
    "zip_to_feather(FILEPATH_APPLICATION_TRAIN)\n",
    "zip_to_feather(FILEPATH_APPLICATION_TEST)\n",
    "zip_to_feather(FILEPATH_BUREAU)\n",
    "zip_to_feather(FILEPATH_BUREAU_BALANCE)\n",
    "zip_to_feather(FILEPATH_CREDIT_CARD_BALANCE)\n",
    "zip_to_feather(FILEPATH_INSTALLMENTS_PAYMENTS)\n",
    "zip_to_feather(FILEPATH_POS_CASH_BALANCE)\n",
    "zip_to_feather(FILEPATH_PREVIOUS_APPLICATION)"
   ]
  },
  {
   "cell_type": "code",
   "execution_count": null,
   "metadata": {
    "collapsed": true
   },
   "outputs": [],
   "source": []
  },
  {
   "cell_type": "code",
   "execution_count": null,
   "metadata": {
    "collapsed": true
   },
   "outputs": [],
   "source": []
  }
 ],
 "metadata": {
  "kernelspec": {
   "display_name": "Python 3",
   "language": "python",
   "name": "python3"
  },
  "language_info": {
   "codemirror_mode": {
    "name": "ipython",
    "version": 3
   },
   "file_extension": ".py",
   "mimetype": "text/x-python",
   "name": "python",
   "nbconvert_exporter": "python",
   "pygments_lexer": "ipython3",
   "version": "3.6.3"
  }
 },
 "nbformat": 4,
 "nbformat_minor": 2
}
