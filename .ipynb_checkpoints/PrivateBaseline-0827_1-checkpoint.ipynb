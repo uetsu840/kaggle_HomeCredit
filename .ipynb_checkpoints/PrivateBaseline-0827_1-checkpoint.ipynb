{
 "cells": [
  {
   "cell_type": "markdown",
   "metadata": {},
   "source": [
    "### baseline_lgb_0827_2234.csv\n",
    "\n",
    "<ul>\n",
    "<li> changed bureau balance / bureau features to kernel version <br>\n",
    "    (with aggretaion on active or closed credits) </li>\n",
    "<li> changed previous apprications to kernel version <br>\n",
    "    (with aggregation on active or closed credits) </li>\n",
    "</ul>\n",
    "\n",
    "2234.csv learning rate = 0.1 <br>\n",
    "2326.csv learning rate = 0.05"
   ]
  },
  {
   "cell_type": "code",
   "execution_count": 38,
   "metadata": {
    "collapsed": true
   },
   "outputs": [],
   "source": [
    "# numpy and pandas for data manipulation\n",
    "import numpy as np\n",
    "import pandas as pd \n",
    "\n",
    "# sklearn preprocessing for dealing with categorical variables\n",
    "from sklearn.preprocessing import LabelEncoder\n",
    "\n",
    "# File system manangement\n",
    "import os\n",
    "\n",
    "# Suppress warnings \n",
    "import warnings\n",
    "warnings.filterwarnings('ignore')\n",
    "\n",
    "# matplotlib and seaborn for plotting\n",
    "import matplotlib.pyplot as plt\n",
    "import seaborn as sns\n",
    "%matplotlib inline"
   ]
  },
  {
   "cell_type": "code",
   "execution_count": 39,
   "metadata": {
    "collapsed": true
   },
   "outputs": [],
   "source": [
    "FILEPATH_APPLICATION_TRAIN     = \"../data/application_train.csv.f\"\n",
    "FILEPATH_APPLICATION_TEST      = \"../data/application_test.csv.f\"\n",
    "\n",
    "\n",
    "\n",
    "# aggregated features\n",
    "FILEPATH_BUREAU_AGG                  = \"../data/bureau_agg_0827.csv.f\"\n",
    "FILEPATH_FEATURE_PREV_APP            = \"../data/prev_app_feature_0827.csv.f\"\n",
    "FILEPATH_FEATURE_INSTALLMENT_PAYMENT = \"../data/prev_insallment_payment_feature_0819.csv.f\"\n",
    "FILEPATH_FEATURE_CC_BALANCE          = \"../data/prev_credit_card_balance_feature_0824_1.csv.f\"\n",
    "FILEPATH_FEATURE_CC_BALANCE_3M       = \"../data/feature_cc_balance_3m_0824_1.csv.f\"\n",
    "FILEPATH_FEATURE_CC_BALANCE_6M       = \"../data/feature_cc_balance_6m_0824_1.csv.f\"\n",
    "FILEPATH_FEATURE_CC_BALANCE_12M      = \"../data/feature_cc_balance_12m_0824_1.csv.f\"\n",
    "\n",
    "FILEPATH_FEATURE_POS_CASH_BALANCE    = \"../data/POS_CASH_balance_feature_0824_1.csv.f\"\n"
   ]
  },
  {
   "cell_type": "code",
   "execution_count": 40,
   "metadata": {
    "collapsed": true
   },
   "outputs": [],
   "source": [
    "df_app_train = pd.read_feather(FILEPATH_APPLICATION_TRAIN)\n",
    "df_app_test  = pd.read_feather(FILEPATH_APPLICATION_TEST)\n",
    "\n",
    "df_bureau_agg = pd.read_feather(FILEPATH_BUREAU_AGG)\n",
    "df_feature_prev_app = pd.read_feather(FILEPATH_FEATURE_PREV_APP)\n",
    "df_feature_inst_payment = pd.read_feather(FILEPATH_FEATURE_INSTALLMENT_PAYMENT)\n",
    "df_feature_cc_balance = pd.read_feather(FILEPATH_FEATURE_CC_BALANCE)\n",
    "df_feature_cc_balance_3m  = pd.read_feather(FILEPATH_FEATURE_CC_BALANCE_3M)\n",
    "df_feature_cc_balance_6m  = pd.read_feather(FILEPATH_FEATURE_CC_BALANCE_6M)\n",
    "df_feature_cc_balance_12m = pd.read_feather(FILEPATH_FEATURE_CC_BALANCE_12M)\n",
    "df_feature_pos_cash_balance = pd.read_feather(FILEPATH_FEATURE_POS_CASH_BALANCE)\n"
   ]
  },
  {
   "cell_type": "code",
   "execution_count": 41,
   "metadata": {},
   "outputs": [
    {
     "data": {
      "text/plain": [
       "(307511, 122)"
      ]
     },
     "execution_count": 41,
     "metadata": {},
     "output_type": "execute_result"
    }
   ],
   "source": [
    "df_app_train.shape"
   ]
  },
  {
   "cell_type": "code",
   "execution_count": 42,
   "metadata": {},
   "outputs": [
    {
     "data": {
      "text/plain": [
       "(48744, 121)"
      ]
     },
     "execution_count": 42,
     "metadata": {},
     "output_type": "execute_result"
    }
   ],
   "source": [
    "df_app_test.shape"
   ]
  },
  {
   "cell_type": "markdown",
   "metadata": {},
   "source": [
    "### condatenate train and test data"
   ]
  },
  {
   "cell_type": "code",
   "execution_count": 43,
   "metadata": {
    "collapsed": true
   },
   "outputs": [],
   "source": [
    "df_app_all = pd.concat([df_app_train, df_app_test])\n",
    "del df_app_train\n",
    "del df_app_test"
   ]
  },
  {
   "cell_type": "code",
   "execution_count": 44,
   "metadata": {},
   "outputs": [
    {
     "data": {
      "text/plain": [
       "(356255, 122)"
      ]
     },
     "execution_count": 44,
     "metadata": {},
     "output_type": "execute_result"
    }
   ],
   "source": [
    "df_app_all.shape"
   ]
  },
  {
   "cell_type": "code",
   "execution_count": 45,
   "metadata": {
    "scrolled": false
   },
   "outputs": [
    {
     "data": {
      "text/plain": [
       "0.0    282686\n",
       "1.0     24825\n",
       "Name: TARGET, dtype: int64"
      ]
     },
     "execution_count": 45,
     "metadata": {},
     "output_type": "execute_result"
    }
   ],
   "source": [
    "df_app_all['TARGET'].value_counts()"
   ]
  },
  {
   "cell_type": "markdown",
   "metadata": {},
   "source": [
    "### Replace outliers"
   ]
  },
  {
   "cell_type": "code",
   "execution_count": null,
   "metadata": {
    "collapsed": true
   },
   "outputs": [],
   "source": [
    "# Replace some outliers\n",
    "df_app_all['DAYS_EMPLOYED'].replace(365243, np.nan, inplace = True)\n",
    "df_app_all.loc[df_app_all['OWN_CAR_AGE'] > 80, 'OWN_CAR_AGE'] = np.nan\n",
    "df_app_all.loc[df_app_all['REGION_RATING_CLIENT_W_CITY'] < 0, 'REGION_RATING_CLIENT_W_CITY'] = np.nan\n",
    "df_app_all.loc[df_app_all['AMT_INCOME_TOTAL'] > 1e8, 'AMT_INCOME_TOTAL'] = np.nan\n",
    "df_app_all.loc[df_app_all['AMT_REQ_CREDIT_BUREAU_QRT'] > 10, 'AMT_REQ_CREDIT_BUREAU_QRT'] = np.nan\n",
    "df_app_all.loc[df_app_all['OBS_30_CNT_SOCIAL_CIRCLE'] > 40, 'OBS_30_CNT_SOCIAL_CIRCLE'] = np.nan\n",
    "    "
   ]
  },
  {
   "cell_type": "code",
   "execution_count": null,
   "metadata": {
    "collapsed": true
   },
   "outputs": [],
   "source": []
  },
  {
   "cell_type": "code",
   "execution_count": null,
   "metadata": {
    "collapsed": true
   },
   "outputs": [],
   "source": []
  },
  {
   "cell_type": "markdown",
   "metadata": {},
   "source": [
    "### join other tables"
   ]
  },
  {
   "cell_type": "code",
   "execution_count": 46,
   "metadata": {
    "collapsed": true
   },
   "outputs": [],
   "source": [
    "df_app_all = pd.merge(df_app_all, df_bureau_agg, on = 'SK_ID_CURR', how='left')\n",
    "df_app_all = pd.merge(df_app_all, df_feature_prev_app, on = 'SK_ID_CURR', how='left')\n",
    "df_app_all = pd.merge(df_app_all, df_feature_inst_payment, on = 'SK_ID_CURR', how='left')\n",
    "df_app_all = pd.merge(df_app_all, df_feature_cc_balance, on = 'SK_ID_CURR', how='left')\n",
    "df_app_all = pd.merge(df_app_all, df_feature_cc_balance_3m, on = 'SK_ID_CURR', how='left')\n",
    "df_app_all = pd.merge(df_app_all, df_feature_cc_balance_6m, on = 'SK_ID_CURR', how='left')\n",
    "df_app_all = pd.merge(df_app_all, df_feature_cc_balance_12m, on = 'SK_ID_CURR', how='left')\n",
    "df_app_all = pd.merge(df_app_all, df_feature_pos_cash_balance, on = 'SK_ID_CURR', how='left')\n",
    "\n",
    "\n"
   ]
  },
  {
   "cell_type": "code",
   "execution_count": 47,
   "metadata": {},
   "outputs": [
    {
     "data": {
      "text/plain": [
       "(356255, 634)"
      ]
     },
     "execution_count": 47,
     "metadata": {},
     "output_type": "execute_result"
    }
   ],
   "source": [
    "df_app_all.shape"
   ]
  },
  {
   "cell_type": "code",
   "execution_count": 48,
   "metadata": {
    "collapsed": true
   },
   "outputs": [],
   "source": [
    "# Function to calculate missing values by column# Funct \n",
    "def missing_values_table(df):\n",
    "        # Total missing values\n",
    "        mis_val = df.isnull().sum()\n",
    "        \n",
    "        # Percentage of missing values\n",
    "        mis_val_percent = 100 * df.isnull().sum() / len(df)\n",
    "        \n",
    "        # Make a table with the results\n",
    "        mis_val_table = pd.concat([mis_val, mis_val_percent], axis=1)\n",
    "        \n",
    "        # Rename the columns\n",
    "        mis_val_table_ren_columns = mis_val_table.rename(\n",
    "        columns = {0 : 'Missing Values', 1 : '% of Total Values'})\n",
    "        \n",
    "        # Sort the table by percentage of missing descending\n",
    "        mis_val_table_ren_columns = mis_val_table_ren_columns[\n",
    "            mis_val_table_ren_columns.iloc[:,1] != 0].sort_values(\n",
    "        '% of Total Values', ascending=False).round(1)\n",
    "        \n",
    "        # Print some summary information\n",
    "        print (\"Your selected dataframe has \" + str(df.shape[1]) + \" columns.\\n\"      \n",
    "            \"There are \" + str(mis_val_table_ren_columns.shape[0]) +\n",
    "              \" columns that have missing values.\")\n",
    "        \n",
    "        # Return the dataframe with missing information\n",
    "        return mis_val_table_ren_columns"
   ]
  },
  {
   "cell_type": "code",
   "execution_count": 49,
   "metadata": {},
   "outputs": [
    {
     "name": "stdout",
     "output_type": "stream",
     "text": [
      "Your selected dataframe has 634 columns.\n",
      "There are 580 columns that have missing values.\n"
     ]
    },
    {
     "data": {
      "text/html": [
       "<div>\n",
       "<style scoped>\n",
       "    .dataframe tbody tr th:only-of-type {\n",
       "        vertical-align: middle;\n",
       "    }\n",
       "\n",
       "    .dataframe tbody tr th {\n",
       "        vertical-align: top;\n",
       "    }\n",
       "\n",
       "    .dataframe thead th {\n",
       "        text-align: right;\n",
       "    }\n",
       "</style>\n",
       "<table border=\"1\" class=\"dataframe\">\n",
       "  <thead>\n",
       "    <tr style=\"text-align: right;\">\n",
       "      <th></th>\n",
       "      <th>Missing Values</th>\n",
       "      <th>% of Total Values</th>\n",
       "    </tr>\n",
       "  </thead>\n",
       "  <tbody>\n",
       "    <tr>\n",
       "      <th>REFUSED_AMT_DOWN_PAYMENT_MIN</th>\n",
       "      <td>303650</td>\n",
       "      <td>85.2</td>\n",
       "    </tr>\n",
       "    <tr>\n",
       "      <th>REFUSED_AMT_DOWN_PAYMENT_MAX</th>\n",
       "      <td>303650</td>\n",
       "      <td>85.2</td>\n",
       "    </tr>\n",
       "    <tr>\n",
       "      <th>REFUSED_RATE_DOWN_PAYMENT_MIN</th>\n",
       "      <td>303650</td>\n",
       "      <td>85.2</td>\n",
       "    </tr>\n",
       "    <tr>\n",
       "      <th>REFUSED_RATE_DOWN_PAYMENT_MAX</th>\n",
       "      <td>303650</td>\n",
       "      <td>85.2</td>\n",
       "    </tr>\n",
       "    <tr>\n",
       "      <th>REFUSED_RATE_DOWN_PAYMENT_MEAN</th>\n",
       "      <td>303650</td>\n",
       "      <td>85.2</td>\n",
       "    </tr>\n",
       "    <tr>\n",
       "      <th>REFUSED_AMT_DOWN_PAYMENT_MEAN</th>\n",
       "      <td>303650</td>\n",
       "      <td>85.2</td>\n",
       "    </tr>\n",
       "    <tr>\n",
       "      <th>REFUSED_APP_CREDIT_PERC_VAR</th>\n",
       "      <td>298035</td>\n",
       "      <td>83.7</td>\n",
       "    </tr>\n",
       "    <tr>\n",
       "      <th>cc_bal__3mAMT_PAYMENT_CURRENT</th>\n",
       "      <td>285314</td>\n",
       "      <td>80.1</td>\n",
       "    </tr>\n",
       "    <tr>\n",
       "      <th>cc_bal__12mAMT_PAYMENT_CURRENT</th>\n",
       "      <td>285314</td>\n",
       "      <td>80.1</td>\n",
       "    </tr>\n",
       "    <tr>\n",
       "      <th>cc_bal__6mAMT_PAYMENT_CURRENT</th>\n",
       "      <td>285314</td>\n",
       "      <td>80.1</td>\n",
       "    </tr>\n",
       "    <tr>\n",
       "      <th>cc_bal__6mAMT_DRAWINGS_POS_CURRENT</th>\n",
       "      <td>285233</td>\n",
       "      <td>80.1</td>\n",
       "    </tr>\n",
       "    <tr>\n",
       "      <th>cc_bal__12mCNT_DRAWINGS_POS_CURRENT</th>\n",
       "      <td>285233</td>\n",
       "      <td>80.1</td>\n",
       "    </tr>\n",
       "    <tr>\n",
       "      <th>cc_bal__6mAMT_DRAWINGS_OTHER_CURRENT</th>\n",
       "      <td>285233</td>\n",
       "      <td>80.1</td>\n",
       "    </tr>\n",
       "    <tr>\n",
       "      <th>cc_bal__12mCNT_DRAWINGS_OTHER_CURRENT</th>\n",
       "      <td>285233</td>\n",
       "      <td>80.1</td>\n",
       "    </tr>\n",
       "    <tr>\n",
       "      <th>cc_bal__12mAMT_DRAWINGS_POS_CURRENT</th>\n",
       "      <td>285233</td>\n",
       "      <td>80.1</td>\n",
       "    </tr>\n",
       "    <tr>\n",
       "      <th>cc_bal__3mCNT_DRAWINGS_POS_CURRENT</th>\n",
       "      <td>285233</td>\n",
       "      <td>80.1</td>\n",
       "    </tr>\n",
       "    <tr>\n",
       "      <th>cc_bal__12mAMT_DRAWINGS_OTHER_CURRENT</th>\n",
       "      <td>285233</td>\n",
       "      <td>80.1</td>\n",
       "    </tr>\n",
       "    <tr>\n",
       "      <th>cc_bal__3mCNT_DRAWINGS_OTHER_CURRENT</th>\n",
       "      <td>285233</td>\n",
       "      <td>80.1</td>\n",
       "    </tr>\n",
       "    <tr>\n",
       "      <th>cc_bal__12mAMT_DRAWINGS_ATM_CURRENT</th>\n",
       "      <td>285233</td>\n",
       "      <td>80.1</td>\n",
       "    </tr>\n",
       "    <tr>\n",
       "      <th>cc_bal__3mCNT_DRAWINGS_ATM_CURRENT</th>\n",
       "      <td>285233</td>\n",
       "      <td>80.1</td>\n",
       "    </tr>\n",
       "  </tbody>\n",
       "</table>\n",
       "</div>"
      ],
      "text/plain": [
       "                                       Missing Values  % of Total Values\n",
       "REFUSED_AMT_DOWN_PAYMENT_MIN                   303650               85.2\n",
       "REFUSED_AMT_DOWN_PAYMENT_MAX                   303650               85.2\n",
       "REFUSED_RATE_DOWN_PAYMENT_MIN                  303650               85.2\n",
       "REFUSED_RATE_DOWN_PAYMENT_MAX                  303650               85.2\n",
       "REFUSED_RATE_DOWN_PAYMENT_MEAN                 303650               85.2\n",
       "REFUSED_AMT_DOWN_PAYMENT_MEAN                  303650               85.2\n",
       "REFUSED_APP_CREDIT_PERC_VAR                    298035               83.7\n",
       "cc_bal__3mAMT_PAYMENT_CURRENT                  285314               80.1\n",
       "cc_bal__12mAMT_PAYMENT_CURRENT                 285314               80.1\n",
       "cc_bal__6mAMT_PAYMENT_CURRENT                  285314               80.1\n",
       "cc_bal__6mAMT_DRAWINGS_POS_CURRENT             285233               80.1\n",
       "cc_bal__12mCNT_DRAWINGS_POS_CURRENT            285233               80.1\n",
       "cc_bal__6mAMT_DRAWINGS_OTHER_CURRENT           285233               80.1\n",
       "cc_bal__12mCNT_DRAWINGS_OTHER_CURRENT          285233               80.1\n",
       "cc_bal__12mAMT_DRAWINGS_POS_CURRENT            285233               80.1\n",
       "cc_bal__3mCNT_DRAWINGS_POS_CURRENT             285233               80.1\n",
       "cc_bal__12mAMT_DRAWINGS_OTHER_CURRENT          285233               80.1\n",
       "cc_bal__3mCNT_DRAWINGS_OTHER_CURRENT           285233               80.1\n",
       "cc_bal__12mAMT_DRAWINGS_ATM_CURRENT            285233               80.1\n",
       "cc_bal__3mCNT_DRAWINGS_ATM_CURRENT             285233               80.1"
      ]
     },
     "execution_count": 49,
     "metadata": {},
     "output_type": "execute_result"
    }
   ],
   "source": [
    "# Missing values statistics\n",
    "missing_values = missing_values_table(df_app_all)\n",
    "missing_values.head(20)"
   ]
  },
  {
   "cell_type": "code",
   "execution_count": 50,
   "metadata": {},
   "outputs": [
    {
     "data": {
      "text/plain": [
       "float64    578\n",
       "int64       40\n",
       "object      16\n",
       "dtype: int64"
      ]
     },
     "execution_count": 50,
     "metadata": {},
     "output_type": "execute_result"
    }
   ],
   "source": [
    "# Number of each type of column\n",
    "df_app_all.dtypes.value_counts()"
   ]
  },
  {
   "cell_type": "code",
   "execution_count": 51,
   "metadata": {},
   "outputs": [
    {
     "data": {
      "text/plain": [
       "CODE_GENDER                    3\n",
       "EMERGENCYSTATE_MODE            2\n",
       "FLAG_OWN_CAR                   2\n",
       "FLAG_OWN_REALTY                2\n",
       "FONDKAPREMONT_MODE             4\n",
       "HOUSETYPE_MODE                 3\n",
       "NAME_CONTRACT_TYPE             2\n",
       "NAME_EDUCATION_TYPE            5\n",
       "NAME_FAMILY_STATUS             6\n",
       "NAME_HOUSING_TYPE              6\n",
       "NAME_INCOME_TYPE               8\n",
       "NAME_TYPE_SUITE                7\n",
       "OCCUPATION_TYPE               18\n",
       "ORGANIZATION_TYPE             58\n",
       "WALLSMATERIAL_MODE             7\n",
       "WEEKDAY_APPR_PROCESS_START     7\n",
       "dtype: int64"
      ]
     },
     "execution_count": 51,
     "metadata": {},
     "output_type": "execute_result"
    }
   ],
   "source": [
    "# Number of unique classes in each object column\n",
    "df_app_all.select_dtypes('object').apply(pd.Series.nunique, axis = 0)"
   ]
  },
  {
   "cell_type": "markdown",
   "metadata": {},
   "source": [
    "### Encoding Categorical Values(1) Target Encoding"
   ]
  },
  {
   "cell_type": "markdown",
   "metadata": {},
   "source": [
    "As for OCCUPATION_TYPE and ORGANIZATION_TYPE, execute target encoding."
   ]
  },
  {
   "cell_type": "code",
   "execution_count": 52,
   "metadata": {},
   "outputs": [
    {
     "name": "stdout",
     "output_type": "stream",
     "text": [
      "OCCUPATION_TYPE\n",
      "ORGANIZATION_TYPE\n"
     ]
    }
   ],
   "source": [
    "from sklearn.model_selection import KFold\n",
    "target_enc_cols = ['OCCUPATION_TYPE', 'ORGANIZATION_TYPE']\n",
    "\n",
    "for target_enc_col in target_enc_cols:\n",
    "    print(target_enc_col)\n",
    "    target_mean = df_app_all.groupby(target_enc_col).TARGET.mean()\n",
    "    df_app_all[target_enc_col] = df_app_all[target_enc_col].map(target_mean)\n"
   ]
  },
  {
   "cell_type": "code",
   "execution_count": 53,
   "metadata": {},
   "outputs": [
    {
     "data": {
      "text/plain": [
       "0    0.105788\n",
       "1    0.063040\n",
       "2    0.105788\n",
       "3    0.105788\n",
       "4    0.063040\n",
       "Name: OCCUPATION_TYPE, dtype: float64"
      ]
     },
     "execution_count": 53,
     "metadata": {},
     "output_type": "execute_result"
    }
   ],
   "source": [
    "df_app_all['OCCUPATION_TYPE'].head()"
   ]
  },
  {
   "cell_type": "markdown",
   "metadata": {},
   "source": [
    "### Encoding Categorical Values"
   ]
  },
  {
   "cell_type": "markdown",
   "metadata": {},
   "source": [
    "columns which have two unique values            -> Label Encoding<br>\n",
    "columns which have more than three unique values -> One-hot Encoding"
   ]
  },
  {
   "cell_type": "code",
   "execution_count": 54,
   "metadata": {
    "collapsed": true
   },
   "outputs": [],
   "source": [
    "KEY_COLUMN = 'SK_ID_CURR'\n",
    "\n"
   ]
  },
  {
   "cell_type": "markdown",
   "metadata": {},
   "source": [
    "label encoding"
   ]
  },
  {
   "cell_type": "code",
   "execution_count": 55,
   "metadata": {},
   "outputs": [
    {
     "name": "stdout",
     "output_type": "stream",
     "text": [
      "3 columns were label encoded.\n",
      "shape : (356255, 623)\n"
     ]
    }
   ],
   "source": [
    "# Create a label encoder object\n",
    "le = LabelEncoder()\n",
    "le_count = 0\n",
    "\n",
    "# Iterate through the columns\n",
    "for col in df_app_all:\n",
    "    if df_app_all[col].dtype == 'object':\n",
    "        # If 2 or fewer unique categories\n",
    "        if len(list(df_app_all[col].unique())) <= 2:\n",
    "            # Train on the training data\n",
    "            le.fit(df_app_all[col])\n",
    "            # Transform both training and testing data\n",
    "            df_app_all[col] = le.transform(df_app_all[col])\n",
    "            \n",
    "            # Keep track of how many columns were label encoded\n",
    "            le_count += 1\n",
    "        else:\n",
    "            df_app_all.drop(columns = col, inplace=True)\n",
    "print('%d columns were label encoded.' % le_count)\n",
    "\n",
    "print('shape :', df_app_all.shape)"
   ]
  },
  {
   "cell_type": "markdown",
   "metadata": {},
   "source": [
    "One-hot encoding"
   ]
  },
  {
   "cell_type": "code",
   "execution_count": 56,
   "metadata": {},
   "outputs": [
    {
     "name": "stdout",
     "output_type": "stream",
     "text": [
      "shape : (356255, 623)\n"
     ]
    }
   ],
   "source": [
    "# one-hot encoding of categorical variables\n",
    "df_app_all = pd.get_dummies(df_app_all)\n",
    "print('shape :', df_app_all.shape)\n"
   ]
  },
  {
   "cell_type": "code",
   "execution_count": 57,
   "metadata": {},
   "outputs": [
    {
     "data": {
      "image/png": "[encoded data removed]",
      "text/plain": [
       "<matplotlib.figure.Figure at 0x221d485cac8>"
      ]
     },
     "metadata": {},
     "output_type": "display_data"
    }
   ],
   "source": [
    "df_app_all['DAYS_EMPLOYED'].plot.hist(title = 'Days Employment Histogram');\n",
    "plt.xlabel('Days Employment');"
   ]
  },
  {
   "cell_type": "code",
   "execution_count": 58,
   "metadata": {},
   "outputs": [
    {
     "name": "stdout",
     "output_type": "stream",
     "text": [
      "The non-anomalies default on 8.66% of loans\n",
      "The anomalies default on 5.40% of loans\n",
      "There are 64648 anomalous days of employment\n"
     ]
    }
   ],
   "source": [
    "anom = df_app_all[df_app_all['DAYS_EMPLOYED'] == 365243]\n",
    "non_anom = df_app_all[df_app_all['DAYS_EMPLOYED'] != 365243]\n",
    "print('The non-anomalies default on %0.2f%% of loans' % (100 * non_anom['TARGET'].mean()))\n",
    "print('The anomalies default on %0.2f%% of loans' % (100 * anom['TARGET'].mean()))\n",
    "print('There are %d anomalous days of employment' % len(anom))"
   ]
  },
  {
   "cell_type": "code",
   "execution_count": 59,
   "metadata": {},
   "outputs": [
    {
     "data": {
      "image/png": "[encoded data removed]",
      "text/plain": [
       "<matplotlib.figure.Figure at 0x221f2807a58>"
      ]
     },
     "metadata": {},
     "output_type": "display_data"
    }
   ],
   "source": [
    "# Create an anomalous flag column\n",
    "df_app_all['DAYS_EMPLOYED_ANOM'] = df_app_all[\"DAYS_EMPLOYED\"] == 365243\n",
    "\n",
    "# Replace the anomalous values with nan\n",
    "df_app_all['DAYS_EMPLOYED'].replace({365243: np.nan}, inplace = True)\n",
    "\n",
    "df_app_all['DAYS_EMPLOYED'].plot.hist(title = 'Days Employment Histogram');\n",
    "plt.xlabel('Days Employment');"
   ]
  },
  {
   "cell_type": "code",
   "execution_count": 60,
   "metadata": {},
   "outputs": [
    {
     "data": {
      "text/plain": [
       "-0.07823930830982709"
      ]
     },
     "execution_count": 60,
     "metadata": {},
     "output_type": "execute_result"
    }
   ],
   "source": [
    "# Find the correlation of the positive days since birth and target\n",
    "df_app_all['DAYS_BIRTH'] = abs(df_app_all['DAYS_BIRTH'])\n",
    "df_app_all['DAYS_BIRTH'].corr(df_app_all['TARGET'])"
   ]
  },
  {
   "cell_type": "code",
   "execution_count": 61,
   "metadata": {},
   "outputs": [
    {
     "data": {
      "text/plain": [
       "Index(['AMT_ANNUITY', 'AMT_CREDIT', 'AMT_GOODS_PRICE', 'AMT_INCOME_TOTAL',\n",
       "       'AMT_REQ_CREDIT_BUREAU_DAY', 'AMT_REQ_CREDIT_BUREAU_HOUR',\n",
       "       'AMT_REQ_CREDIT_BUREAU_MON', 'AMT_REQ_CREDIT_BUREAU_QRT',\n",
       "       'AMT_REQ_CREDIT_BUREAU_WEEK', 'AMT_REQ_CREDIT_BUREAU_YEAR',\n",
       "       ...\n",
       "       'pcb_NAME_CONTRACT_STATUS_Returned to the store_sum_sum',\n",
       "       'pcb_NAME_CONTRACT_STATUS_Signed_sum_sum',\n",
       "       'pcb_NAME_CONTRACT_STATUS_Amortized debt_avg',\n",
       "       'pcb_NAME_CONTRACT_STATUS_Approved_avg',\n",
       "       'pcb_NAME_CONTRACT_STATUS_Canceled_avg',\n",
       "       'pcb_NAME_CONTRACT_STATUS_Completed_avg',\n",
       "       'pcb_NAME_CONTRACT_STATUS_Demand_avg',\n",
       "       'pcb_NAME_CONTRACT_STATUS_Returned to the store_avg',\n",
       "       'pcb_NAME_CONTRACT_STATUS_Signed_avg', 'DAYS_EMPLOYED_ANOM'],\n",
       "      dtype='object', length=624)"
      ]
     },
     "execution_count": 61,
     "metadata": {},
     "output_type": "execute_result"
    }
   ],
   "source": [
    "df_app_all.columns"
   ]
  },
  {
   "cell_type": "markdown",
   "metadata": {},
   "source": [
    "### Add Extracted Features"
   ]
  },
  {
   "cell_type": "code",
   "execution_count": 62,
   "metadata": {
    "collapsed": true
   },
   "outputs": [],
   "source": [
    "app_all_domain = df_app_all.copy()\n",
    "\n",
    "df_app_all['ap_ex_LOG_AMT_INCOME_TOTAL'] = np.log1p(df_app_all['AMT_INCOME_TOTAL'])\n",
    "df_app_all['ap_ex_CREDIT_INCOME_PERCENT'] = df_app_all['AMT_CREDIT'] / df_app_all['AMT_INCOME_TOTAL']\n",
    "df_app_all['ap_ex_ANNUITY_INCOME_PERCENT'] = df_app_all['AMT_ANNUITY'] / df_app_all['AMT_INCOME_TOTAL']\n",
    "df_app_all['ap_ex_CREDIT_TERM'] = df_app_all['AMT_ANNUITY'] / df_app_all['AMT_CREDIT']\n",
    "df_app_all['ap_ex_DAYS_EMPLOYED_PERCENT'] = df_app_all['DAYS_EMPLOYED'] / df_app_all['DAYS_BIRTH']"
   ]
  },
  {
   "cell_type": "code",
   "execution_count": 63,
   "metadata": {
    "collapsed": true
   },
   "outputs": [],
   "source": [
    "docs = [_f for _f in df_app_all.columns if 'FLAG_DOC' in _f]\n",
    "live = [_f for _f in df_app_all.columns if ('FLAG_' in _f) & ('FLAG_DOC' not in _f) & ('_FLAG_' not in _f)]\n",
    "inc_by_org = df_app_all[['AMT_INCOME_TOTAL', 'ORGANIZATION_TYPE']].groupby('ORGANIZATION_TYPE').median()['AMT_INCOME_TOTAL']\n",
    "    \n",
    "\n",
    "df_app_all['ap_ex_CREDIT_TO_ANNUITY_RATIO'] = df_app_all['AMT_CREDIT'] / df_app_all['AMT_ANNUITY']\n",
    "df_app_all['ap_ex_CREDIT_TO_GOODS_RATIO'] = df_app_all['AMT_CREDIT'] / df_app_all['AMT_GOODS_PRICE']\n",
    "df_app_all['ap_ex_DOC_IND_KURT'] = df_app_all[docs].kurtosis(axis=1)\n",
    "df_app_all['ap_ex_LIVE_IND_SUM'] = df_app_all[live].sum(axis=1)\n",
    "df_app_all['ap_ex_INC_PER_CHLD'] = df_app_all['AMT_INCOME_TOTAL'] / (1 + df_app_all['CNT_CHILDREN'])\n",
    "df_app_all['ap_ex_INC_BY_ORG'] = df_app_all['ORGANIZATION_TYPE'].map(inc_by_org)\n",
    "df_app_all['ap_ex_EMPLOY_TO_BIRTH_RATIO'] = df_app_all['DAYS_EMPLOYED'] / df_app_all['DAYS_BIRTH']\n",
    "df_app_all['ap_ex_ANNUITY_TO_INCOME_RATIO'] = df_app_all['AMT_ANNUITY'] / (1 + df_app_all['AMT_INCOME_TOTAL'])\n",
    "df_app_all['ap_ex_SOURCES_PROD'] = df_app_all['EXT_SOURCE_1'] * df_app_all['EXT_SOURCE_2'] * df_app_all['EXT_SOURCE_3']\n",
    "df_app_all['ap_ex_EXT_SOURCES_MEAN'] = df_app_all[['EXT_SOURCE_1', 'EXT_SOURCE_2', 'EXT_SOURCE_3']].mean(axis=1)\n",
    "df_app_all['ap_ex_SCORES_STD'] = df_app_all[['EXT_SOURCE_1', 'EXT_SOURCE_2', 'EXT_SOURCE_3']].std(axis=1)\n",
    "df_app_all['ap_ex_SCORES_STD'] = df_app_all['ap_ex_SCORES_STD'].fillna(df_app_all['ap_ex_SCORES_STD'].mean())\n",
    "df_app_all['ap_ex_CAR_TO_BIRTH_RATIO'] = df_app_all['OWN_CAR_AGE'] / df_app_all['DAYS_BIRTH']\n",
    "df_app_all['ap_ex_CAR_TO_EMPLOY_RATIO'] = df_app_all['OWN_CAR_AGE'] / df_app_all['DAYS_EMPLOYED']\n",
    "df_app_all['ap_ex_PHONE_TO_BIRTH_RATIO'] = df_app_all['DAYS_LAST_PHONE_CHANGE'] / df_app_all['DAYS_BIRTH']\n",
    "df_app_all['ap_ex_PHONE_TO_BIRTH_RATIO_EMPLOYER'] = df_app_all['DAYS_LAST_PHONE_CHANGE'] / df_app_all['DAYS_EMPLOYED']\n",
    "df_app_all['ap_ex_CREDIT_TO_INCOME_RATIO'] = df_app_all['AMT_CREDIT'] / df_app_all['AMT_INCOME_TOTAL']\n"
   ]
  },
  {
   "cell_type": "code",
   "execution_count": 64,
   "metadata": {},
   "outputs": [
    {
     "name": "stdout",
     "output_type": "stream",
     "text": [
      "(356255, 624)\n"
     ]
    }
   ],
   "source": [
    "print(app_all_domain.shape)"
   ]
  },
  {
   "cell_type": "code",
   "execution_count": 65,
   "metadata": {},
   "outputs": [
    {
     "data": {
      "image/png": "[encoded data removed]",
      "text/plain": [
       "<matplotlib.figure.Figure at 0x221f2807550>"
      ]
     },
     "metadata": {},
     "output_type": "display_data"
    }
   ],
   "source": [
    "plt.figure(figsize = (4, 10))\n",
    "# iterate through the new features\n",
    "for i, feature in enumerate(['ap_ex_CREDIT_INCOME_PERCENT', \n",
    "                             'ap_ex_ANNUITY_INCOME_PERCENT', \n",
    "                             'ap_ex_CREDIT_TERM',\n",
    "                             'ap_ex_DAYS_EMPLOYED_PERCENT']):\n",
    "    \n",
    "    # create a new subplot for each source\n",
    "    plt.subplot(4, 1, i + 1)\n",
    "    # plot repaid loans\n",
    "    sns.kdeplot(df_app_all.loc[df_app_all['TARGET'] == 0, feature], label = 'target == 0')\n",
    "    # plot loans that were not repaid\n",
    "    sns.kdeplot(df_app_all.loc[df_app_all['TARGET'] == 1, feature], label = 'target == 1')\n",
    "    \n",
    "    # Label the plots\n",
    "    plt.title('Distribution of %s by Target Value' % feature)\n",
    "    plt.xlabel('%s' % feature); plt.ylabel('Density');\n",
    "    \n",
    "plt.tight_layout(h_pad = 2.5)"
   ]
  },
  {
   "cell_type": "markdown",
   "metadata": {},
   "source": [
    "### split train and test"
   ]
  },
  {
   "cell_type": "code",
   "execution_count": 66,
   "metadata": {
    "collapsed": true
   },
   "outputs": [],
   "source": [
    "df_app_test = df_app_all[df_app_all['TARGET'].isnull()].drop(columns = ['TARGET'])\n",
    "df_app_train = df_app_all[df_app_all['TARGET'].notnull()]\n",
    "\n"
   ]
  },
  {
   "cell_type": "code",
   "execution_count": 67,
   "metadata": {},
   "outputs": [
    {
     "data": {
      "text/html": [
       "<div>\n",
       "<style scoped>\n",
       "    .dataframe tbody tr th:only-of-type {\n",
       "        vertical-align: middle;\n",
       "    }\n",
       "\n",
       "    .dataframe tbody tr th {\n",
       "        vertical-align: top;\n",
       "    }\n",
       "\n",
       "    .dataframe thead th {\n",
       "        text-align: right;\n",
       "    }\n",
       "</style>\n",
       "<table border=\"1\" class=\"dataframe\">\n",
       "  <thead>\n",
       "    <tr style=\"text-align: right;\">\n",
       "      <th></th>\n",
       "      <th>AMT_ANNUITY</th>\n",
       "      <th>AMT_CREDIT</th>\n",
       "      <th>AMT_GOODS_PRICE</th>\n",
       "      <th>AMT_INCOME_TOTAL</th>\n",
       "      <th>AMT_REQ_CREDIT_BUREAU_DAY</th>\n",
       "      <th>AMT_REQ_CREDIT_BUREAU_HOUR</th>\n",
       "      <th>AMT_REQ_CREDIT_BUREAU_MON</th>\n",
       "      <th>AMT_REQ_CREDIT_BUREAU_QRT</th>\n",
       "      <th>AMT_REQ_CREDIT_BUREAU_WEEK</th>\n",
       "      <th>AMT_REQ_CREDIT_BUREAU_YEAR</th>\n",
       "      <th>...</th>\n",
       "      <th>ap_ex_EMPLOY_TO_BIRTH_RATIO</th>\n",
       "      <th>ap_ex_ANNUITY_TO_INCOME_RATIO</th>\n",
       "      <th>ap_ex_SOURCES_PROD</th>\n",
       "      <th>ap_ex_EXT_SOURCES_MEAN</th>\n",
       "      <th>ap_ex_SCORES_STD</th>\n",
       "      <th>ap_ex_CAR_TO_BIRTH_RATIO</th>\n",
       "      <th>ap_ex_CAR_TO_EMPLOY_RATIO</th>\n",
       "      <th>ap_ex_PHONE_TO_BIRTH_RATIO</th>\n",
       "      <th>ap_ex_PHONE_TO_BIRTH_RATIO_EMPLOYER</th>\n",
       "      <th>ap_ex_CREDIT_TO_INCOME_RATIO</th>\n",
       "    </tr>\n",
       "  </thead>\n",
       "  <tbody>\n",
       "    <tr>\n",
       "      <th>307511</th>\n",
       "      <td>20560.5</td>\n",
       "      <td>568800.0</td>\n",
       "      <td>450000.0</td>\n",
       "      <td>135000.0</td>\n",
       "      <td>0.0</td>\n",
       "      <td>0.0</td>\n",
       "      <td>0.0</td>\n",
       "      <td>0.0</td>\n",
       "      <td>0.0</td>\n",
       "      <td>0.0</td>\n",
       "      <td>...</td>\n",
       "      <td>-0.121044</td>\n",
       "      <td>0.152299</td>\n",
       "      <td>0.094803</td>\n",
       "      <td>0.567263</td>\n",
       "      <td>0.353601</td>\n",
       "      <td>NaN</td>\n",
       "      <td>NaN</td>\n",
       "      <td>-0.090432</td>\n",
       "      <td>0.747102</td>\n",
       "      <td>4.213333</td>\n",
       "    </tr>\n",
       "    <tr>\n",
       "      <th>307512</th>\n",
       "      <td>17370.0</td>\n",
       "      <td>222768.0</td>\n",
       "      <td>180000.0</td>\n",
       "      <td>99000.0</td>\n",
       "      <td>0.0</td>\n",
       "      <td>0.0</td>\n",
       "      <td>0.0</td>\n",
       "      <td>0.0</td>\n",
       "      <td>0.0</td>\n",
       "      <td>3.0</td>\n",
       "      <td>...</td>\n",
       "      <td>-0.247398</td>\n",
       "      <td>0.175453</td>\n",
       "      <td>0.071345</td>\n",
       "      <td>0.429869</td>\n",
       "      <td>0.136694</td>\n",
       "      <td>NaN</td>\n",
       "      <td>NaN</td>\n",
       "      <td>0.000000</td>\n",
       "      <td>-0.000000</td>\n",
       "      <td>2.250182</td>\n",
       "    </tr>\n",
       "    <tr>\n",
       "      <th>307513</th>\n",
       "      <td>69777.0</td>\n",
       "      <td>663264.0</td>\n",
       "      <td>630000.0</td>\n",
       "      <td>202500.0</td>\n",
       "      <td>0.0</td>\n",
       "      <td>0.0</td>\n",
       "      <td>0.0</td>\n",
       "      <td>1.0</td>\n",
       "      <td>0.0</td>\n",
       "      <td>4.0</td>\n",
       "      <td>...</td>\n",
       "      <td>-0.222477</td>\n",
       "      <td>0.344576</td>\n",
       "      <td>NaN</td>\n",
       "      <td>0.655389</td>\n",
       "      <td>0.062788</td>\n",
       "      <td>0.000250</td>\n",
       "      <td>-0.001122</td>\n",
       "      <td>-0.042719</td>\n",
       "      <td>0.192014</td>\n",
       "      <td>3.275378</td>\n",
       "    </tr>\n",
       "    <tr>\n",
       "      <th>307514</th>\n",
       "      <td>49018.5</td>\n",
       "      <td>1575000.0</td>\n",
       "      <td>1575000.0</td>\n",
       "      <td>315000.0</td>\n",
       "      <td>0.0</td>\n",
       "      <td>0.0</td>\n",
       "      <td>0.0</td>\n",
       "      <td>0.0</td>\n",
       "      <td>0.0</td>\n",
       "      <td>3.0</td>\n",
       "      <td>...</td>\n",
       "      <td>-0.133515</td>\n",
       "      <td>0.155614</td>\n",
       "      <td>0.164177</td>\n",
       "      <td>0.549372</td>\n",
       "      <td>0.055432</td>\n",
       "      <td>NaN</td>\n",
       "      <td>NaN</td>\n",
       "      <td>-0.129150</td>\n",
       "      <td>0.967310</td>\n",
       "      <td>5.000000</td>\n",
       "    </tr>\n",
       "    <tr>\n",
       "      <th>307515</th>\n",
       "      <td>32067.0</td>\n",
       "      <td>625500.0</td>\n",
       "      <td>625500.0</td>\n",
       "      <td>180000.0</td>\n",
       "      <td>NaN</td>\n",
       "      <td>NaN</td>\n",
       "      <td>NaN</td>\n",
       "      <td>NaN</td>\n",
       "      <td>NaN</td>\n",
       "      <td>NaN</td>\n",
       "      <td>...</td>\n",
       "      <td>-0.168021</td>\n",
       "      <td>0.178149</td>\n",
       "      <td>NaN</td>\n",
       "      <td>0.313916</td>\n",
       "      <td>0.158068</td>\n",
       "      <td>0.001227</td>\n",
       "      <td>-0.007303</td>\n",
       "      <td>-0.062960</td>\n",
       "      <td>0.374715</td>\n",
       "      <td>3.475000</td>\n",
       "    </tr>\n",
       "  </tbody>\n",
       "</table>\n",
       "<p>5 rows × 644 columns</p>\n",
       "</div>"
      ],
      "text/plain": [
       "        AMT_ANNUITY  AMT_CREDIT  AMT_GOODS_PRICE  AMT_INCOME_TOTAL  \\\n",
       "307511      20560.5    568800.0         450000.0          135000.0   \n",
       "307512      17370.0    222768.0         180000.0           99000.0   \n",
       "307513      69777.0    663264.0         630000.0          202500.0   \n",
       "307514      49018.5   1575000.0        1575000.0          315000.0   \n",
       "307515      32067.0    625500.0         625500.0          180000.0   \n",
       "\n",
       "        AMT_REQ_CREDIT_BUREAU_DAY  AMT_REQ_CREDIT_BUREAU_HOUR  \\\n",
       "307511                        0.0                         0.0   \n",
       "307512                        0.0                         0.0   \n",
       "307513                        0.0                         0.0   \n",
       "307514                        0.0                         0.0   \n",
       "307515                        NaN                         NaN   \n",
       "\n",
       "        AMT_REQ_CREDIT_BUREAU_MON  AMT_REQ_CREDIT_BUREAU_QRT  \\\n",
       "307511                        0.0                        0.0   \n",
       "307512                        0.0                        0.0   \n",
       "307513                        0.0                        1.0   \n",
       "307514                        0.0                        0.0   \n",
       "307515                        NaN                        NaN   \n",
       "\n",
       "        AMT_REQ_CREDIT_BUREAU_WEEK  AMT_REQ_CREDIT_BUREAU_YEAR  \\\n",
       "307511                         0.0                         0.0   \n",
       "307512                         0.0                         3.0   \n",
       "307513                         0.0                         4.0   \n",
       "307514                         0.0                         3.0   \n",
       "307515                         NaN                         NaN   \n",
       "\n",
       "                    ...               ap_ex_EMPLOY_TO_BIRTH_RATIO  \\\n",
       "307511              ...                                 -0.121044   \n",
       "307512              ...                                 -0.247398   \n",
       "307513              ...                                 -0.222477   \n",
       "307514              ...                                 -0.133515   \n",
       "307515              ...                                 -0.168021   \n",
       "\n",
       "        ap_ex_ANNUITY_TO_INCOME_RATIO  ap_ex_SOURCES_PROD  \\\n",
       "307511                       0.152299            0.094803   \n",
       "307512                       0.175453            0.071345   \n",
       "307513                       0.344576                 NaN   \n",
       "307514                       0.155614            0.164177   \n",
       "307515                       0.178149                 NaN   \n",
       "\n",
       "        ap_ex_EXT_SOURCES_MEAN  ap_ex_SCORES_STD  ap_ex_CAR_TO_BIRTH_RATIO  \\\n",
       "307511                0.567263          0.353601                       NaN   \n",
       "307512                0.429869          0.136694                       NaN   \n",
       "307513                0.655389          0.062788                  0.000250   \n",
       "307514                0.549372          0.055432                       NaN   \n",
       "307515                0.313916          0.158068                  0.001227   \n",
       "\n",
       "        ap_ex_CAR_TO_EMPLOY_RATIO  ap_ex_PHONE_TO_BIRTH_RATIO  \\\n",
       "307511                        NaN                   -0.090432   \n",
       "307512                        NaN                    0.000000   \n",
       "307513                  -0.001122                   -0.042719   \n",
       "307514                        NaN                   -0.129150   \n",
       "307515                  -0.007303                   -0.062960   \n",
       "\n",
       "        ap_ex_PHONE_TO_BIRTH_RATIO_EMPLOYER  ap_ex_CREDIT_TO_INCOME_RATIO  \n",
       "307511                             0.747102                      4.213333  \n",
       "307512                            -0.000000                      2.250182  \n",
       "307513                             0.192014                      3.275378  \n",
       "307514                             0.967310                      5.000000  \n",
       "307515                             0.374715                      3.475000  \n",
       "\n",
       "[5 rows x 644 columns]"
      ]
     },
     "execution_count": 67,
     "metadata": {},
     "output_type": "execute_result"
    }
   ],
   "source": [
    "df_app_test.head()"
   ]
  },
  {
   "cell_type": "code",
   "execution_count": 82,
   "metadata": {
    "collapsed": true
   },
   "outputs": [],
   "source": [
    "from sklearn.model_selection import KFold, StratifiedKFold, StratifiedShuffleSplit\n",
    "from sklearn.metrics import roc_auc_score\n",
    "from sklearn.linear_model import LogisticRegression\n",
    "from sklearn.preprocessing import MinMaxScaler, Imputer\n",
    "import lightgbm as lgb\n",
    "import gc\n",
    "\n",
    "lgb_params_org = {\n",
    "    'num_iterations':500,\n",
    "    'num_leaves':31,\n",
    "    'objective': 'binary', \n",
    "    'learning_rate':0.05, \n",
    "    'reg_alpha':1, \n",
    "    'reg_lambda':0.1, \n",
    "    'min_split_gain':.01,\n",
    "    'min_child_weight':3,\n",
    "    'boosting_type':'gbdt',\n",
    "    'metric':'auc',\n",
    "    'subsample':0.9,\n",
    "    'seed':50 ,\n",
    "    'verbose':0\n",
    "}\n",
    "\n",
    "def kfold_predict_lgb(features, test_features, n_folds = 5):\n",
    "    \n",
    "    # Extract the ids\n",
    "    train_ids = features['SK_ID_CURR']\n",
    "    test_ids = test_features['SK_ID_CURR']    \n",
    "\n",
    "    # Extract the labels for training\n",
    "    labels = features['TARGET']\n",
    "    \n",
    "    # Remove the ids and target\n",
    "    features = features.drop(columns = ['SK_ID_CURR', 'TARGET'])\n",
    "    test_features = test_features.drop(columns = ['SK_ID_CURR'])\n",
    "\n",
    "    # Extract feature names\n",
    "    feature_names = list(features.columns)\n",
    "\n",
    "    # Convert to np arrays\n",
    "    features = np.array(features)\n",
    "    test_features = np.array(test_features)\n",
    "\n",
    "    print('Testing Data Shape: ', test_features.shape)\n",
    "    \n",
    "    # Create the kfold object\n",
    "    k_fold = StratifiedShuffleSplit(n_splits = n_folds, random_state = 50)\n",
    "    \n",
    "    # Empty array for feature importances\n",
    "    feature_importance_values = np.zeros(len(feature_names))\n",
    "    \n",
    "    # Empty array for test predictions\n",
    "    test_predictions_lgb = np.zeros(test_features.shape[0])\n",
    "    \n",
    "    # Empty array for out of fold validation predictions\n",
    "    out_of_fold = np.zeros(features.shape[0])\n",
    "    \n",
    "    # Lists for recording validation and training scores\n",
    "    valid_scores = []\n",
    "    train_scores = []\n",
    "    \n",
    "    # And here we create 2nd level feeature matrix, init it with zeros first\n",
    "    X_train_level2 = np.zeros([train_ids.shape[0], 1])\n",
    "    X_test_level2  = np.zeros([test_ids.shape[0], 1])\n",
    "    \n",
    "    # Iterate through each fold\n",
    "    for train_indices, valid_indices in k_fold.split(features, labels):\n",
    "        \n",
    "        # Training data for the fold\n",
    "        train_features    = features[train_indices]\n",
    "        train_labels      = labels[train_indices]                        \n",
    "                                                            \n",
    "        # Validation data for the fold\n",
    "        valid_features    = features[valid_indices]\n",
    "        valid_labels      = labels[valid_indices]\n",
    "        \n",
    "        ### LightGBM\n",
    "        \n",
    "        # Train the model\n",
    "        lgb_train = lgb.Dataset(train_features, train_labels)\n",
    "        lgb_eval = lgb.Dataset(valid_features, valid_labels, reference=lgb_train)\n",
    "        \n",
    "        lgb_params_cur = lgb_params_org.copy()\n",
    "        model_lgb = lgb.train(lgb_params_cur,\n",
    "                          train_set = lgb_train,\n",
    "                          valid_sets = lgb_eval,\n",
    "                          valid_names=['train','valid'], \n",
    "                          verbose_eval = 100,\n",
    "                          early_stopping_rounds = 50)\n",
    "        \n",
    "        # Record the best iteration\n",
    "        best_iteration = model_lgb.best_iteration\n",
    "        \n",
    "        # Record the feature importances\n",
    "        feature_importance_values += model_lgb.feature_importance() / k_fold.n_splits\n",
    "        \n",
    "        # Make predictions\n",
    "        train_preds_lgb = model_lgb.predict(train_features, num_iteration = best_iteration)\n",
    "        valid_preds_lgb = model_lgb.predict(valid_features, num_iteration = best_iteration)\n",
    "        test_pred_lgb   = model_lgb.predict(test_features, num_iteration = best_iteration)\n",
    "        test_predictions_lgb += test_pred_lgb / k_fold.n_splits\n",
    "        \n",
    "        # Record the best score\n",
    "        valid_score_lgb = roc_auc_score(valid_labels, valid_preds_lgb)\n",
    "        train_score_lgb = roc_auc_score(train_labels, train_preds_lgb)\n",
    "        valid_scores.append(valid_score_lgb)\n",
    "        train_scores.append(train_score_lgb)\n",
    "        \n",
    "        print('Valid Score:{:.4f}, Train Score:{:.4f}'.format(valid_score_lgb, train_score_lgb))\n",
    "        \n",
    "        ### Put into Lv.2 Features\n",
    "        X_train_level2[valid_indices, 0] = valid_preds_lgb\n",
    "        \n",
    "        # Clean up memory\n",
    "        gc.enable()\n",
    "        del model_lgb, train_features, valid_features\n",
    "        gc.collect()\n",
    "    \n",
    "    # generate test predictions\n",
    "    X_test_level2[:, 0] = test_predictions_lgb\n",
    "    \n",
    "    # Make the feature importance dataframe\n",
    "    feature_importances = pd.DataFrame({'feature': feature_names, 'importance': feature_importance_values})\n",
    "\n",
    "    return X_train_level2, X_test_level2, feature_importances\n",
    "\n",
    "    \n"
   ]
  },
  {
   "cell_type": "code",
   "execution_count": 83,
   "metadata": {
    "collapsed": true
   },
   "outputs": [],
   "source": [
    "# logistic regression with kfold\n",
    "def kfold_predict_lr(features, test_features, n_folds = 5):\n",
    "\n",
    "    # Extract the ids\n",
    "    train_ids = features['SK_ID_CURR']\n",
    "\n",
    "    # Extract the labels for training\n",
    "    labels = features['TARGET']\n",
    "    \n",
    "    # Remove the ids and target\n",
    "    features = features.drop(columns = ['SK_ID_CURR', 'TARGET'])\n",
    "    test_features = test_features.drop(columns = ['SK_ID_CURR'])\n",
    "\n",
    "  \n",
    "    # Extract feature names\n",
    "    feature_names = list(features.columns)\n",
    "    \n",
    "    # Impute and Scale Features for logistic regression\n",
    "    # Median imputation of missing values\n",
    "    # Scale each feature to 0-1\n",
    "    imputer = Imputer(strategy = 'median')\n",
    "    imputer.fit(features)\n",
    "\n",
    "    features = imputer.transform(features)\n",
    "    test_features = imputer.transform(test_features)\n",
    "\n",
    "    scaler = MinMaxScaler(feature_range = (0, 1))\n",
    "    scaler.fit(features)\n",
    "    \n",
    "    features = scaler.transform(features)\n",
    "    test_features  = scaler.transform(test_features)\n",
    "\n",
    "    # Convert to np arrays\n",
    "    features = np.array(features)\n",
    "    test_features  = np.array(test_features)\n",
    "\n",
    "    print('Training Data Shape: ', features.shape)\n",
    "        \n",
    "    # Create the kfold object\n",
    "    k_fold = KFold(n_splits = n_folds, shuffle = True, random_state = 50)\n",
    "        \n",
    "    # Empty array for test predictions\n",
    "    test_predictions  = np.zeros(test_features.shape[0])\n",
    "    \n",
    "    # Empty array for out of fold validation predictions\n",
    "    out_of_fold = np.zeros(features.shape[0])\n",
    "    \n",
    "    # Lists for recording validation and training scores\n",
    "    valid_scores = []\n",
    "    train_scores = []\n",
    "    \n",
    "    # And here we create 2nd level feeature matrix, init it with zeros first\n",
    "    X_train_level2 = np.zeros([train_ids.shape[0], 1])\n",
    "    X_test_level2  = np.zeros([test_ids.shape[0], 1])\n",
    "    \n",
    "    # Iterate through each fold\n",
    "    for train_indices, valid_indices in k_fold.split(features):\n",
    "        \n",
    "        # Training data for the fold\n",
    "        train_features = features[train_indices]\n",
    "        train_labels   = labels[train_indices]                        \n",
    "                                                            \n",
    "        # Validation data for the fold\n",
    "        valid_features = features[valid_indices]\n",
    "        valid_labels   = labels[valid_indices]\n",
    "        \n",
    "        ### Linear Regression\n",
    "\n",
    "        # Make the model with the specified regularization parameter\n",
    "        log_reg = LogisticRegression(C = 0.0001)\n",
    "        log_reg.fit(train_features, train_labels)\n",
    "        train_preds = log_reg.predict_proba(train_features)[:, 1]\n",
    "        valid_preds = log_reg.predict_proba(valid_features)[:, 1]\n",
    "        test_preds  = log_reg.predict_proba(test_features)[:, 1]\n",
    "        test_predictions += test_preds / k_fold.n_splits\n",
    "\n",
    "        # Record the best score\n",
    "        valid_score = roc_auc_score(valid_labels, valid_preds)\n",
    "        train_score = roc_auc_score(train_labels, train_preds)\n",
    "        valid_scores.append(valid_score)\n",
    "        train_scores.append(train_score)\n",
    "        \n",
    "        print('Valid Score:{:.4f}, Train Score:{:.4f}'.format(valid_score, train_score))\n",
    "\n",
    "        \n",
    "        ### Put into Lv.2 Features\n",
    "        X_train_level2[valid_indices, 0] = valid_preds\n",
    "        \n",
    "        # Clean up memory\n",
    "        gc.enable()\n",
    "        del train_features, valid_features\n",
    "        gc.collect()\n",
    "    \n",
    "    # generate test predictions\n",
    "    X_test_level2[:, 0] = test_predictions\n",
    "    \n",
    "    return X_train_level2, X_test_level2\n"
   ]
  },
  {
   "cell_type": "code",
   "execution_count": 84,
   "metadata": {
    "collapsed": true
   },
   "outputs": [],
   "source": [
    "def plot_feature_importances(df):\n",
    "    \"\"\"\n",
    "    Plot importances returned by a model. This can work with any measure of\n",
    "    feature importance provided that higher importance is better. \n",
    "    \n",
    "    Args:\n",
    "        df (dataframe): feature importances. Must have the features in a column\n",
    "        called `features` and the importances in a column called `importance\n",
    "        \n",
    "    Returns:\n",
    "        shows a plot of the 15 most importance features\n",
    "        \n",
    "        df (dataframe): feature importances sorted by importance (highest to lowest) \n",
    "        with a column for normalized importance\n",
    "        \"\"\"\n",
    "    \n",
    "    # Sort features according to importance\n",
    "    df = df.sort_values('importance', ascending = False).reset_index()\n",
    "    \n",
    "    # Normalize the feature importances to add up to one\n",
    "    df['importance_normalized'] = df['importance'] / df['importance'].sum()\n",
    "\n",
    "    # Make a horizontal bar chart of feature importances\n",
    "    plt.figure(figsize = (10, 12))\n",
    "    ax = plt.subplot()\n",
    "    \n",
    "    # Need to reverse the index to plot most important on top\n",
    "    ax.barh(list(reversed(list(df.index[:60]))), \n",
    "            df['importance_normalized'].head(60), \n",
    "            align = 'center', edgecolor = 'k')\n",
    "    \n",
    "    # Set the yticks and labels\n",
    "    ax.set_yticks(list(reversed(list(df.index[:60]))))\n",
    "    ax.set_yticklabels(df['feature'].head(60))\n",
    "    \n",
    "    # Plot labeling\n",
    "    plt.xlabel('Normalized Importance'); plt.title('Feature Importances')\n",
    "    plt.show()\n",
    "    \n",
    "    return df"
   ]
  },
  {
   "cell_type": "code",
   "execution_count": 85,
   "metadata": {},
   "outputs": [
    {
     "name": "stdout",
     "output_type": "stream",
     "text": [
      "Testing Data Shape:  (48744, 643)\n",
      "Training until validation scores don't improve for 50 rounds.\n",
      "[100]\ttrain's auc: 0.769782\n",
      "[200]\ttrain's auc: 0.779303\n",
      "[300]\ttrain's auc: 0.781255\n",
      "[400]\ttrain's auc: 0.782205\n",
      "[500]\ttrain's auc: 0.782604\n",
      "Did not meet early stopping. Best iteration is:\n",
      "[458]\ttrain's auc: 0.782909\n",
      "Valid Score:0.7829, Train Score:0.8722\n",
      "Training until validation scores don't improve for 50 rounds.\n",
      "[100]\ttrain's auc: 0.769321\n",
      "[200]\ttrain's auc: 0.778602\n",
      "[300]\ttrain's auc: 0.77941\n",
      "Early stopping, best iteration is:\n",
      "[288]\ttrain's auc: 0.779624\n",
      "Valid Score:0.7796, Train Score:0.8446\n",
      "Training until validation scores don't improve for 50 rounds.\n",
      "[100]\ttrain's auc: 0.776835\n",
      "[200]\ttrain's auc: 0.785776\n",
      "[300]\ttrain's auc: 0.786919\n",
      "[400]\ttrain's auc: 0.788364\n",
      "[500]\ttrain's auc: 0.789063\n",
      "Did not meet early stopping. Best iteration is:\n",
      "[488]\ttrain's auc: 0.789103\n",
      "Valid Score:0.7891, Train Score:0.8754\n",
      "Training until validation scores don't improve for 50 rounds.\n",
      "[100]\ttrain's auc: 0.77213\n",
      "[200]\ttrain's auc: 0.78016\n",
      "[300]\ttrain's auc: 0.781557\n",
      "[400]\ttrain's auc: 0.782288\n",
      "Early stopping, best iteration is:\n",
      "[377]\ttrain's auc: 0.782664\n",
      "Valid Score:0.7827, Train Score:0.8601\n",
      "Training until validation scores don't improve for 50 rounds.\n",
      "[100]\ttrain's auc: 0.772479\n",
      "[200]\ttrain's auc: 0.782542\n",
      "[300]\ttrain's auc: 0.784306\n",
      "[400]\ttrain's auc: 0.785177\n",
      "[500]\ttrain's auc: 0.785259\n",
      "Did not meet early stopping. Best iteration is:\n",
      "[466]\ttrain's auc: 0.785513\n",
      "Valid Score:0.7855, Train Score:0.8728\n"
     ]
    }
   ],
   "source": [
    "X_train_level2_lgb, X_test_level2_lgb, fi_lgb = kfold_predict_lgb(df_app_train, df_app_test)\n"
   ]
  },
  {
   "cell_type": "code",
   "execution_count": 86,
   "metadata": {},
   "outputs": [
    {
     "data": {
      "image/png": "[encoded data removed]",
      "text/plain": [
       "<matplotlib.figure.Figure at 0x221d36a7470>"
      ]
     },
     "metadata": {},
     "output_type": "display_data"
    }
   ],
   "source": [
    "fi_sorted = plot_feature_importances(fi_lgb)"
   ]
  },
  {
   "cell_type": "code",
   "execution_count": 87,
   "metadata": {
    "collapsed": true
   },
   "outputs": [],
   "source": [
    "#X_train_level2_lr, X_test_level2_lr   = kfold_predict_lr(df_app_train, df_app_test)\n",
    "\n",
    "#X_train_level2 = np.c_[X_train_level2_lgb, X_train_level2_lr]\n",
    "#X_test_level2  = np.c_[X_test_level2_lgb, X_test_level2_lr]"
   ]
  },
  {
   "cell_type": "code",
   "execution_count": 88,
   "metadata": {},
   "outputs": [],
   "source": [
    "#alphas_to_try = np.linspace(0, 1, 1001)\n",
    "#y_train_level2 = df_app_train['TARGET'] \n",
    "\n",
    "#scores = np.array([roc_auc_score(y_train_level2,\n",
    "#                            alpha * X_train_level2[:, 0]+(1-alpha)*X_train_level2[:, 1])\n",
    "#                   for alpha in alphas_to_try])\n",
    "#plt.plot(alphas_to_try, scores)\n",
    "#best_alpha = alphas_to_try[scores.argmax()]\n",
    "\n",
    "#roc_train_simple_mix = scores.max()\n",
    "\n",
    "#print('Best alpha: %f; Corresponding auc score on train: %f' % (best_alpha, roc_train_simple_mix))\n",
    "\n"
   ]
  },
  {
   "cell_type": "code",
   "execution_count": 89,
   "metadata": {},
   "outputs": [
    {
     "data": {
      "text/plain": [
       "(48744,)"
      ]
     },
     "execution_count": 89,
     "metadata": {},
     "output_type": "execute_result"
    }
   ],
   "source": [
    "test_ids = df_app_test['SK_ID_CURR']    \n",
    "#test_predictions = (X_test_level2_lgb * best_alpha + X_test_level2_lr * (1-best_alpha))[:, 0]\n",
    "test_predictions = X_test_level2_lgb[:, 0]\n",
    "\n",
    "test_ids.shape\n",
    "test_predictions.shape"
   ]
  },
  {
   "cell_type": "code",
   "execution_count": 90,
   "metadata": {
    "collapsed": true
   },
   "outputs": [],
   "source": [
    "\n",
    "# Make the submission dataframe\n",
    "submission_df = pd.DataFrame({'SK_ID_CURR': test_ids, 'TARGET': test_predictions})"
   ]
  },
  {
   "cell_type": "code",
   "execution_count": 91,
   "metadata": {
    "collapsed": true
   },
   "outputs": [],
   "source": [
    "submission_df.to_csv('../submission/baseline_lgb_0827_2326.csv', index = False)"
   ]
  },
  {
   "cell_type": "code",
   "execution_count": null,
   "metadata": {
    "collapsed": true
   },
   "outputs": [],
   "source": []
  },
  {
   "cell_type": "code",
   "execution_count": null,
   "metadata": {
    "collapsed": true
   },
   "outputs": [],
   "source": []
  },
  {
   "cell_type": "code",
   "execution_count": null,
   "metadata": {
    "collapsed": true
   },
   "outputs": [],
   "source": []
  },
  {
   "cell_type": "code",
   "execution_count": null,
   "metadata": {
    "collapsed": true
   },
   "outputs": [],
   "source": []
  },
  {
   "cell_type": "code",
   "execution_count": null,
   "metadata": {
    "collapsed": true
   },
   "outputs": [],
   "source": []
  },
  {
   "cell_type": "code",
   "execution_count": null,
   "metadata": {
    "collapsed": true
   },
   "outputs": [],
   "source": []
  },
  {
   "cell_type": "code",
   "execution_count": null,
   "metadata": {
    "collapsed": true
   },
   "outputs": [],
   "source": []
  },
  {
   "cell_type": "code",
   "execution_count": null,
   "metadata": {
    "collapsed": true
   },
   "outputs": [],
   "source": []
  },
  {
   "cell_type": "code",
   "execution_count": null,
   "metadata": {
    "collapsed": true
   },
   "outputs": [],
   "source": []
  },
  {
   "cell_type": "code",
   "execution_count": null,
   "metadata": {
    "collapsed": true
   },
   "outputs": [],
   "source": []
  },
  {
   "cell_type": "code",
   "execution_count": null,
   "metadata": {
    "collapsed": true
   },
   "outputs": [],
   "source": []
  },
  {
   "cell_type": "code",
   "execution_count": null,
   "metadata": {
    "collapsed": true
   },
   "outputs": [],
   "source": []
  }
 ],
 "metadata": {
  "kernelspec": {
   "display_name": "Python 3",
   "language": "python",
   "name": "python3"
  },
  "language_info": {
   "codemirror_mode": {
    "name": "ipython",
    "version": 3
   },
   "file_extension": ".py",
   "mimetype": "text/x-python",
   "name": "python",
   "nbconvert_exporter": "python",
   "pygments_lexer": "ipython3",
   "version": "3.6.3"
  }
 },
 "nbformat": 4,
 "nbformat_minor": 2
}
